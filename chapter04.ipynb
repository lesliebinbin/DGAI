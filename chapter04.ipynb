{
 "cells": [
  {
   "cell_type": "code",
   "execution_count": null,
   "metadata": {},
   "outputs": [],
   "source": [
    "import pandas as pd\n",
    "import numpy as np\n",
    "import matplotlib.pyplot as plt\n",
    "%matplotlib inline"
   ]
  },
  {
   "cell_type": "code",
   "execution_count": null,
   "metadata": {},
   "outputs": [],
   "source": [
    "import torch\n",
    "from torch import nn"
   ]
  },
  {
   "cell_type": "code",
   "execution_count": null,
   "metadata": {},
   "outputs": [],
   "source": [
    "device = 'cuda' if torch.cuda.is_available() else 'mps' if torch.backends.mps.is_available() else 'cpu'"
   ]
  },
  {
   "cell_type": "code",
   "execution_count": null,
   "metadata": {},
   "outputs": [],
   "source": [
    "device"
   ]
  },
  {
   "cell_type": "code",
   "execution_count": null,
   "metadata": {},
   "outputs": [],
   "source": [
    "D = nn.Sequential(\n",
    "    nn.Linear(28 ** 2, 1024),\n",
    "    nn.ReLU(),\n",
    "    nn.Dropout(.3),\n",
    "    nn.Linear(1024, 512),\n",
    "    nn.ReLU(),\n",
    "    nn.Dropout(.3),\n",
    "    nn.Linear(512, 256),\n",
    "    nn.ReLU(),\n",
    "    nn.Dropout(.3),\n",
    "    nn.Linear(256, 1),\n",
    "    nn.Sigmoid()\n",
    ").to(device)"
   ]
  },
  {
   "cell_type": "code",
   "execution_count": null,
   "metadata": {},
   "outputs": [],
   "source": [
    "G = nn.Sequential(\n",
    "    nn.Linear(100, 256),\n",
    "    nn.ReLU(),\n",
    "    nn.Linear(256, 512),\n",
    "    nn.ReLU(),\n",
    "    nn.Linear(512, 1024),\n",
    "    nn.ReLU(),\n",
    "    nn.Linear(1024, 28 ** 2),\n",
    "    nn.Tanh()\n",
    ").to(device)"
   ]
  },
  {
   "cell_type": "code",
   "execution_count": null,
   "metadata": {},
   "outputs": [],
   "source": [
    "loss_fn = nn.BCELoss()\n",
    "lr = .0001\n",
    "optimD = torch.optim.Adam(D.parameters(), lr=lr)\n",
    "optimG = torch.optim.Adam(G.parameters(), lr=lr)"
   ]
  },
  {
   "cell_type": "code",
   "execution_count": null,
   "metadata": {},
   "outputs": [],
   "source": [
    "def see_output():\n",
    "    noise = torch.randn(32, 100).to(device)\n",
    "    fake_samples = G(noise).cpu().detach()\n",
    "    plt.figure(dpi=100, figsize=(20, 10))\n",
    "    for i in range(32):\n",
    "        ax = plt.subplot(4, 8, i+1)\n",
    "        img = (fake_samples[i] / 2 + .5).reshape(28, 28)\n",
    "        plt.imshow(img)\n",
    "        plt.xticks([])\n",
    "        plt.yticks([])\n",
    "    plt.show()"
   ]
  },
  {
   "cell_type": "code",
   "execution_count": null,
   "metadata": {},
   "outputs": [],
   "source": [
    "see_output()"
   ]
  },
  {
   "cell_type": "code",
   "execution_count": null,
   "metadata": {},
   "outputs": [],
   "source": [
    "import torchvision \n",
    "import torchvision.transforms as T\n",
    "transform = T.Compose(\n",
    "    [\n",
    "        T.ToTensor(),\n",
    "        T.Normalize([.5], [.5])\n",
    "    ]\n",
    ")\n",
    "train_set = torchvision.datasets.FashionMNIST(\n",
    "    root='.',\n",
    "    train=True,\n",
    "    download=True,\n",
    "    transform=transform\n",
    ")\n",
    "test_set = torchvision.datasets.FashionMNIST(\n",
    "    root='.',\n",
    "    train=False,\n",
    "    download=True,\n",
    "    transform=transform\n",
    ")"
   ]
  },
  {
   "cell_type": "code",
   "execution_count": null,
   "metadata": {},
   "outputs": [],
   "source": [
    "batch_size = 64\n",
    "train_loader = torch.utils.data.DataLoader(train_set, batch_size=batch_size, shuffle=True)\n",
    "test_loader = torch.utils.data.DataLoader(test_set, batch_size=batch_size, shuffle=True)"
   ]
  },
  {
   "cell_type": "code",
   "execution_count": null,
   "metadata": {},
   "outputs": [],
   "source": [
    "def train_D_on_real(real_samples):\n",
    "    optimD.zero_grad()\n",
    "    output = D(real_samples.reshape(-1, 28 ** 2))\n",
    "    loss = loss_fn(output, torch.ones_like(output, dtype=torch.float32))\n",
    "    loss.backward()\n",
    "    optimD.step()\n",
    "    return loss"
   ]
  },
  {
   "cell_type": "code",
   "execution_count": null,
   "metadata": {},
   "outputs": [],
   "source": [
    "def train_D_on_fake():\n",
    "    optimD.zero_grad()\n",
    "    fake_samples = G(torch.randn(batch_size, 100).to(device))\n",
    "    output = D(fake_samples)\n",
    "    loss = loss_fn(output, torch.zeros_like(output, dtype=torch.float32))\n",
    "    loss.backward()\n",
    "    optimD.step()\n",
    "    return loss"
   ]
  },
  {
   "cell_type": "code",
   "execution_count": null,
   "metadata": {},
   "outputs": [],
   "source": [
    "def train_G():\n",
    "    optimG.zero_grad()\n",
    "    generated_result = G(torch.randn(batch_size, 100).to(device))\n",
    "    output = D(generated_result)\n",
    "    loss = loss_fn(output, torch.ones_like(output, dtype=torch.float32))\n",
    "    loss.backward()\n",
    "    optimG.step()\n",
    "    return loss"
   ]
  },
  {
   "cell_type": "code",
   "execution_count": null,
   "metadata": {},
   "outputs": [],
   "source": [
    "for epoch in range(50):\n",
    "    dloss = 0\n",
    "    gloss = 0\n",
    "    for n, (real_samples, _) in enumerate(train_loader):\n",
    "        dloss += train_D_on_real(real_samples.to(device))\n",
    "        dloss += train_D_on_fake()\n",
    "        gloss =  train_G()\n",
    "    gloss /= n\n",
    "    dloss /= n\n",
    "    if epoch % 10 == 9:\n",
    "        print(f\"at epoch {epoch+1}, dloss: {dloss}, gloss {gloss}\")\n",
    "        see_output()\n"
   ]
  },
  {
   "cell_type": "code",
   "execution_count": null,
   "metadata": {},
   "outputs": [],
   "source": []
  }
 ],
 "metadata": {
  "kernelspec": {
   "display_name": "mac-pytorch",
   "language": "python",
   "name": "python3"
  },
  "language_info": {
   "codemirror_mode": {
    "name": "ipython",
    "version": 3
   },
   "file_extension": ".py",
   "mimetype": "text/x-python",
   "name": "python",
   "nbconvert_exporter": "python",
   "pygments_lexer": "ipython3",
   "version": "3.12.7"
  }
 },
 "nbformat": 4,
 "nbformat_minor": 2
}
