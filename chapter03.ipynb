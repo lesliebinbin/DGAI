{
 "cells": [
  {
   "cell_type": "code",
   "execution_count": null,
   "metadata": {},
   "outputs": [],
   "source": [
    "import numpy as np\n",
    "import pandas as pd\n",
    "import matplotlib.pyplot as plt\n",
    "%matplotlib inline"
   ]
  },
  {
   "cell_type": "code",
   "execution_count": null,
   "metadata": {},
   "outputs": [],
   "source": [
    "import torch"
   ]
  },
  {
   "cell_type": "code",
   "execution_count": null,
   "metadata": {},
   "outputs": [],
   "source": [
    "device = 'cuda' if torch.cuda.is_available() else 'mps' if torch.backends.mps.is_available() else 'cpu'"
   ]
  },
  {
   "cell_type": "code",
   "execution_count": null,
   "metadata": {},
   "outputs": [],
   "source": [
    "device"
   ]
  },
  {
   "cell_type": "code",
   "execution_count": null,
   "metadata": {},
   "outputs": [],
   "source": [
    "torch.manual_seed(0)\n",
    "observations = 2048\n",
    "train_data = torch.zeros((observations, 2))\n",
    "train_data[:, 0] = 50 * torch.rand(observations)\n",
    "train_data[:, 1] = 1.08 ** train_data[:, 0]"
   ]
  },
  {
   "cell_type": "code",
   "execution_count": null,
   "metadata": {},
   "outputs": [],
   "source": [
    "fig = plt.figure(dpi=100, figsize=(8, 6))\n",
    "plt.plot(train_data[:, 0], train_data[:, 1], '.', c='r')\n",
    "plt.xlabel('values of x', fontsize=15)\n",
    "plt.ylabel('values of $y=1.08^x$', fontsize=15)\n",
    "plt.title('An expotential growth shape', fontsize=20)"
   ]
  },
  {
   "cell_type": "code",
   "execution_count": null,
   "metadata": {},
   "outputs": [],
   "source": [
    "from torch.utils.data.dataloader import DataLoader"
   ]
  },
  {
   "cell_type": "code",
   "execution_count": null,
   "metadata": {},
   "outputs": [],
   "source": [
    "batch_size = 128\n",
    "train_loader = DataLoader(train_data, batch_size, shuffle=True)"
   ]
  },
  {
   "cell_type": "code",
   "execution_count": null,
   "metadata": {},
   "outputs": [],
   "source": [
    "batch0=next(iter(train_loader))"
   ]
  },
  {
   "cell_type": "code",
   "execution_count": null,
   "metadata": {},
   "outputs": [],
   "source": [
    "batch0"
   ]
  },
  {
   "cell_type": "code",
   "execution_count": null,
   "metadata": {},
   "outputs": [],
   "source": [
    "import torch.nn as nn\n",
    "D = nn.Sequential(\n",
    "    nn.Linear(2, 256),\n",
    "    nn.ReLU(),\n",
    "    nn.Dropout(.3),\n",
    "    nn.Linear(256, 128),\n",
    "    nn.ReLU(),\n",
    "    nn.Dropout(.3),\n",
    "    nn.Linear(128, 64),\n",
    "    nn.ReLU(),\n",
    "    nn.Dropout(.3),\n",
    "    nn.Linear(64, 1),\n",
    "    nn.Sigmoid()\n",
    ").to(device)"
   ]
  },
  {
   "cell_type": "code",
   "execution_count": null,
   "metadata": {},
   "outputs": [],
   "source": [
    "G = nn.Sequential(\n",
    "    nn.Linear(2, 16),\n",
    "    nn.ReLU(),\n",
    "    nn.Linear(16, 32),\n",
    "    nn.ReLU(),\n",
    "    nn.Linear(32, 2),\n",
    ").to(device)"
   ]
  },
  {
   "cell_type": "code",
   "execution_count": null,
   "metadata": {},
   "outputs": [],
   "source": [
    "loss_fn = nn.BCELoss()\n",
    "lr = .0005\n",
    "optimD = torch.optim.Adam(D.parameters(), lr=lr)\n",
    "optimG = torch.optim.Adam(G.parameters(), lr=lr)"
   ]
  },
  {
   "cell_type": "code",
   "execution_count": null,
   "metadata": {},
   "outputs": [],
   "source": [
    "mse = nn.MSELoss()\n",
    "def performance(fake_samples):\n",
    "    real = 1.08 ** fake_samples[:, 0]\n",
    "    return mse(fake_samples[:, 1], real)"
   ]
  },
  {
   "cell_type": "code",
   "execution_count": null,
   "metadata": {},
   "outputs": [],
   "source": [
    "class EarlyStop:\n",
    "    def __init__(self, patience=1000):\n",
    "        self.patience = patience\n",
    "        self.steps = 0\n",
    "        self.min_gdif = float('inf')\n",
    "    def stop(self, gdif):\n",
    "        if gdif < self.min_gdif:\n",
    "            self.min_gdif = gdif\n",
    "            self.steps = 0\n",
    "        elif gdif >= self.min_gdif:\n",
    "            self.steps += 1\n",
    "        if self.steps >= self.patience:\n",
    "            return True\n",
    "        else:\n",
    "            return False\n",
    "stopper=EarlyStop()"
   ]
  },
  {
   "cell_type": "code",
   "execution_count": null,
   "metadata": {},
   "outputs": [],
   "source": [
    "real_labels = torch.ones((batch_size, 1)).to(device)\n",
    "fake_labels = torch.zeros((batch_size, 1)).to(device)"
   ]
  },
  {
   "cell_type": "code",
   "execution_count": null,
   "metadata": {},
   "outputs": [],
   "source": [
    "def train_D_on_real(real_samples):\n",
    "    real_samples = real_samples.to(device)\n",
    "    optimD.zero_grad()\n",
    "    output = D(real_samples)\n",
    "    loss_D = loss_fn(output, real_labels)\n",
    "    loss_D.backward()\n",
    "    optimD.step()\n",
    "    return loss_D"
   ]
  },
  {
   "cell_type": "code",
   "execution_count": null,
   "metadata": {},
   "outputs": [],
   "source": [
    "def train_D_on_fake():\n",
    "    noise = torch.randn((batch_size, 2)).to(device)\n",
    "    fake_samples = G(noise)\n",
    "    optimD.zero_grad()\n",
    "    output_D = D(fake_samples)\n",
    "    loss_D = loss_fn(output_D, fake_labels)\n",
    "    loss_D.backward()\n",
    "    optimD.step()\n",
    "    return loss_D"
   ]
  },
  {
   "cell_type": "code",
   "execution_count": null,
   "metadata": {},
   "outputs": [],
   "source": [
    "def train_G():\n",
    "    noise = torch.randn((batch_size, 2)).to(device)\n",
    "    optimG.zero_grad()\n",
    "    fake_samples = G(noise)\n",
    "    out_G = D(fake_samples)\n",
    "    loss_G = loss_fn(out_G, real_labels)\n",
    "    loss_G.backward()\n",
    "    optimG.step()\n",
    "    return loss_G, fake_samples"
   ]
  },
  {
   "cell_type": "code",
   "execution_count": null,
   "metadata": {},
   "outputs": [],
   "source": [
    "import os\n",
    "os.makedirs('files', exist_ok=True)"
   ]
  },
  {
   "cell_type": "code",
   "execution_count": null,
   "metadata": {},
   "outputs": [],
   "source": [
    "def test_epoch(epoch, gloss, dloss, n, fake_samples):\n",
    "    if epoch == 0 or (epoch + 1) % 100 == 0:\n",
    "        g = gloss.item() / n\n",
    "        d = dloss.item() / n\n",
    "        print(f\"at epoch {epoch+1}, G loss: {g}, D loss {d}\")\n",
    "        print(f\"at epoch {epoch+1}, G loss: {g}, D loss {d}\")\n",
    "        fake=fake_samples.detach().cpu().numpy()\n",
    "        plt.figure(dpi=80)\n",
    "        plt.plot(fake[:,0],fake[:,1],\"*\",c=\"g\",\n",
    "        label=\"generated samples\")\n",
    "        plt.plot(train_data[:,0],train_data[:,1],\".\",c=\"r\",\n",
    "        alpha=0.1,label=\"real samples\")\n",
    "        plt.title(f\"epoch {epoch+1}\")\n",
    "        plt.xlim(0,50)\n",
    "        plt.ylim(0,50)\n",
    "        plt.legend()\n",
    "        plt.savefig(f\"files/p{epoch+1}.png\")\n",
    "        plt.show()"
   ]
  },
  {
   "cell_type": "code",
   "execution_count": null,
   "metadata": {},
   "outputs": [],
   "source": [
    "for epoch in range(10000):\n",
    "    gloss = 0\n",
    "    dloss = 0\n",
    "    for n, real_samples in enumerate(train_loader):\n",
    "        dloss += train_D_on_real(real_samples)\n",
    "        dloss += train_D_on_fake()\n",
    "        loss_G, fake_samples = train_G()\n",
    "        gloss += loss_G\n",
    "    test_epoch(epoch, gloss, dloss, n, fake_samples)\n",
    "    gdif=performance(fake_samples).item()\n",
    "    if stopper.stop(gdif)==True:\n",
    "        break"
   ]
  },
  {
   "cell_type": "code",
   "execution_count": null,
   "metadata": {},
   "outputs": [],
   "source": [
    "scripted = torch.jit.script(G)"
   ]
  },
  {
   "cell_type": "code",
   "execution_count": null,
   "metadata": {},
   "outputs": [],
   "source": [
    "scripted.save('files/my_exponential.pt')"
   ]
  },
  {
   "cell_type": "code",
   "execution_count": null,
   "metadata": {},
   "outputs": [],
   "source": []
  }
 ],
 "metadata": {
  "kernelspec": {
   "display_name": "nvidia-pytorch",
   "language": "python",
   "name": "python3"
  },
  "language_info": {
   "codemirror_mode": {
    "name": "ipython",
    "version": 3
   },
   "file_extension": ".py",
   "mimetype": "text/x-python",
   "name": "python",
   "nbconvert_exporter": "python",
   "pygments_lexer": "ipython3",
   "version": "3.11.2"
  }
 },
 "nbformat": 4,
 "nbformat_minor": 2
}
