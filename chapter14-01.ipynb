{
 "cells": [
  {
   "cell_type": "code",
   "execution_count": 1,
   "metadata": {},
   "outputs": [],
   "source": [
    "import numpy as np\n",
    "import pandas as pd\n",
    "import matplotlib.pyplot as plt\n",
    "%matplotlib inline"
   ]
  },
  {
   "cell_type": "code",
   "execution_count": 2,
   "metadata": {},
   "outputs": [],
   "source": [
    "import torch\n",
    "from torch import nn"
   ]
  },
  {
   "cell_type": "code",
   "execution_count": 3,
   "metadata": {},
   "outputs": [],
   "source": [
    "import torch.nn.functional as F"
   ]
  },
  {
   "cell_type": "code",
   "execution_count": 4,
   "metadata": {},
   "outputs": [],
   "source": [
    "import os"
   ]
  },
  {
   "cell_type": "code",
   "execution_count": 5,
   "metadata": {},
   "outputs": [],
   "source": [
    "os.makedirs(\"files/maestro-v2.0.0/train\", exist_ok=True)\n",
    "os.makedirs(\"files/maestro-v2.0.0/val\", exist_ok=True)\n",
    "os.makedirs(\"files/maestro-v2.0.0/test\", exist_ok=True)"
   ]
  },
  {
   "cell_type": "code",
   "execution_count": 6,
   "metadata": {},
   "outputs": [],
   "source": [
    "import json\n",
    "import pickle\n",
    "from utils.processor import encode_midi\n",
    "file=\"files/maestro-v2.0.0/maestro-v2.0.0.json\"\n",
    "with open(file,\"r\") as fb:\n",
    "    maestro_json=json.load(fb)"
   ]
  },
  {
   "cell_type": "code",
   "execution_count": 7,
   "metadata": {},
   "outputs": [],
   "source": [
    "for x in maestro_json:\n",
    "    mid=rf'files/maestro-v2.0.0/{x[\"midi_filename\"]}'\n",
    "    split_type = x[\"split\"]\n",
    "    f_name = mid.split(\"/\")[-1] + \".pickle\"\n",
    "    if(split_type == \"train\"):\n",
    "        o_file = rf'files/maestro-v2.0.0/train/{f_name}'\n",
    "    elif(split_type == \"validation\"):\n",
    "        o_file = rf'files/maestro-v2.0.0/val/{f_name}'\n",
    "    elif(split_type == \"test\"):\n",
    "        o_file = rf'files/maestro-v2.0.0/test/{f_name}'\n",
    "    prepped = encode_midi(mid)\n",
    "    with open(o_file,\"wb\") as f:\n",
    "        pickle.dump(prepped, f)"
   ]
  },
  {
   "cell_type": "code",
   "execution_count": 8,
   "metadata": {},
   "outputs": [
    {
     "name": "stdout",
     "output_type": "stream",
     "text": [
      "there are 967 files in the train set\n",
      "there are 137 files in the validation set\n",
      "there are 178 files in the test set\n"
     ]
    }
   ],
   "source": [
    "train_size=len(os.listdir('files/maestro-v2.0.0/train'))\n",
    "print(f\"there are {train_size} files in the train set\")\n",
    "val_size=len(os.listdir('files/maestro-v2.0.0/val'))\n",
    "print(f\"there are {val_size} files in the validation set\")\n",
    "test_size=len(os.listdir('files/maestro-v2.0.0/test'))\n",
    "print(f\"there are {test_size} files in the test set\")"
   ]
  },
  {
   "cell_type": "code",
   "execution_count": 9,
   "metadata": {},
   "outputs": [
    {
     "name": "stdout",
     "output_type": "stream",
     "text": [
      "<[SNote] time: 1.0325520833333333 type: note_on, value: 74, velocity: 86>\n",
      "<[SNote] time: 1.0442708333333333 type: note_on, value: 38, velocity: 77>\n",
      "<[SNote] time: 1.2265625 type: note_off, value: 74, velocity: None>\n",
      "<[SNote] time: 1.2395833333333333 type: note_on, value: 73, velocity: 69>\n",
      "<[SNote] time: 1.2408854166666665 type: note_on, value: 37, velocity: 64>\n"
     ]
    }
   ],
   "source": [
    "\n",
    "from utils.processor import encode_midi\n",
    "import pretty_midi\n",
    "from utils.processor import (_control_preprocess,\n",
    "    _note_preprocess,_divide_note,\n",
    "    _make_time_sift_events,_snote2events)\n",
    "\n",
    "file='MIDI-Unprocessed_Chamber1_MID--AUDIO_07_R3_2018_wav--2'\n",
    "name=rf'files/maestro-v2.0.0/2018/{file}.midi'\n",
    "\n",
    "# encode\n",
    "events=[]\n",
    "notes=[]\n",
    "\n",
    "# convert song to an easily-manipulable format\n",
    "song=pretty_midi.PrettyMIDI(name)\n",
    "for inst in song.instruments:\n",
    "    inst_notes=inst.notes\n",
    "    ctrls=_control_preprocess([ctrl for ctrl in \n",
    "       inst.control_changes if ctrl.number == 64])\n",
    "    notes += _note_preprocess(ctrls, inst_notes)\n",
    "dnotes = _divide_note(notes)    \n",
    "dnotes.sort(key=lambda x: x.time)    \n",
    "for i in range(5):\n",
    "    print(dnotes[i])   "
   ]
  },
  {
   "cell_type": "code",
   "execution_count": 10,
   "metadata": {},
   "outputs": [],
   "source": [
    "max_seq = 2048"
   ]
  },
  {
   "cell_type": "code",
   "execution_count": 11,
   "metadata": {},
   "outputs": [],
   "source": [
    "def create_xys(folder):\n",
    "    files = [os.path.join(folder, f) for f in os.listdir(folder)]\n",
    "    xys = []\n",
    "    for f in files:\n",
    "        with open(f, 'rb') as fb:\n",
    "            music = pickle.load(fb)\n",
    "        music = torch.LongTensor(music)\n",
    "        x = torch.full((max_seq, ), 389, dtype=torch.long)\n",
    "        y = torch.full((max_seq, ), 389, dtype=torch.long)\n",
    "        length = len(music)\n",
    "        if length <= max_seq:\n",
    "            x[:length] = music\n",
    "            y[:length-1]=music[1:]\n",
    "            y[length-1]=388\n",
    "        else:\n",
    "            x=music[:max_seq]\n",
    "            y=music[1:max_seq+1]\n",
    "        xys.append((x, y))\n",
    "    return xys"
   ]
  },
  {
   "cell_type": "code",
   "execution_count": 12,
   "metadata": {},
   "outputs": [],
   "source": [
    "trainfolder='files/maestro-v2.0.0/train'\n",
    "train=create_xys(trainfolder)"
   ]
  },
  {
   "cell_type": "code",
   "execution_count": 13,
   "metadata": {},
   "outputs": [
    {
     "name": "stdout",
     "output_type": "stream",
     "text": [
      "processing the validation set\n",
      "processing the test set\n"
     ]
    }
   ],
   "source": [
    "valfolder='files/maestro-v2.0.0/val'\n",
    "testfolder='files/maestro-v2.0.0/test'\n",
    "print(\"processing the validation set\")\n",
    "val=create_xys(valfolder)\n",
    "print(\"processing the test set\")\n",
    "test=create_xys(testfolder)"
   ]
  },
  {
   "cell_type": "code",
   "execution_count": 14,
   "metadata": {},
   "outputs": [],
   "source": [
    "val1,_ =val[0]"
   ]
  },
  {
   "cell_type": "code",
   "execution_count": 15,
   "metadata": {},
   "outputs": [
    {
     "data": {
      "text/plain": [
       "torch.Size([2048])"
      ]
     },
     "execution_count": 15,
     "metadata": {},
     "output_type": "execute_result"
    }
   ],
   "source": [
    "val1.shape"
   ]
  },
  {
   "cell_type": "code",
   "execution_count": 16,
   "metadata": {},
   "outputs": [
    {
     "data": {
      "text/plain": [
       "<pretty_midi.pretty_midi.PrettyMIDI at 0x7f42584e9e90>"
      ]
     },
     "execution_count": 16,
     "metadata": {},
     "output_type": "execute_result"
    }
   ],
   "source": [
    "from utils.processor import decode_midi\n",
    "file_path=\"files/val1.midi\"\n",
    "decode_midi(val1.cpu().numpy(), file_path=file_path)"
   ]
  },
  {
   "cell_type": "code",
   "execution_count": 17,
   "metadata": {},
   "outputs": [],
   "source": [
    "from torch.utils.data import DataLoader\n",
    "batch_size = 2"
   ]
  },
  {
   "cell_type": "code",
   "execution_count": 18,
   "metadata": {},
   "outputs": [],
   "source": [
    "trainloader=DataLoader(train,batch_size=batch_size, shuffle=True)"
   ]
  },
  {
   "cell_type": "code",
   "execution_count": 19,
   "metadata": {},
   "outputs": [],
   "source": [
    "class Config:\n",
    "    def __init__(self):\n",
    "        self.n_layer = 6\n",
    "        self.n_head = 8\n",
    "        self.n_embd = 512\n",
    "        self.vocab_size = 390\n",
    "        self.block_size = 2048\n",
    "        self.embd_pdrop = 0.1\n",
    "        self.resid_pdrop = 0.1\n",
    "        self.attn_pdrop = 0.1\n",
    "\n",
    "\n",
    "config = Config()\n",
    "device = (\n",
    "    \"cuda\"\n",
    "    if torch.cuda.is_available()\n",
    "    else \"mps\" if torch.backends.mps.is_available() else \"cpu\"\n",
    ")"
   ]
  },
  {
   "cell_type": "code",
   "execution_count": 20,
   "metadata": {},
   "outputs": [],
   "source": [
    "from utils.ch14util import Model"
   ]
  },
  {
   "cell_type": "code",
   "execution_count": 21,
   "metadata": {},
   "outputs": [
    {
     "name": "stdout",
     "output_type": "stream",
     "text": [
      "number of parameters: 20.16M\n"
     ]
    },
    {
     "data": {
      "text/plain": [
       "Model(\n",
       "  (transformer): ModuleDict(\n",
       "    (wte): Embedding(390, 512)\n",
       "    (wpe): Embedding(2048, 512)\n",
       "    (drop): Dropout(p=0.1, inplace=False)\n",
       "    (h): ModuleList(\n",
       "      (0-5): 6 x Block(\n",
       "        (ln_1): LayerNorm((512,), eps=1e-05, elementwise_affine=True)\n",
       "        (attn): CausalSelfAttention(\n",
       "          (c_attn): Linear(in_features=512, out_features=1536, bias=True)\n",
       "          (c_proj): Linear(in_features=512, out_features=512, bias=True)\n",
       "          (attn_dropout): Dropout(p=0.1, inplace=False)\n",
       "          (resid_dropout): Dropout(p=0.1, inplace=False)\n",
       "        )\n",
       "        (ln_2): LayerNorm((512,), eps=1e-05, elementwise_affine=True)\n",
       "        (mlp): ModuleDict(\n",
       "          (c_fc): Linear(in_features=512, out_features=2048, bias=True)\n",
       "          (c_proj): Linear(in_features=2048, out_features=512, bias=True)\n",
       "          (act): GELU()\n",
       "          (dropout): Dropout(p=0.1, inplace=False)\n",
       "        )\n",
       "      )\n",
       "    )\n",
       "    (ln_f): LayerNorm((512,), eps=1e-05, elementwise_affine=True)\n",
       "  )\n",
       "  (lm_head): Linear(in_features=512, out_features=390, bias=False)\n",
       ")"
      ]
     },
     "execution_count": 21,
     "metadata": {},
     "output_type": "execute_result"
    }
   ],
   "source": [
    "model=Model(config)\n",
    "model.to(device)\n",
    "num=sum(p.numel() for p in model.transformer.parameters())\n",
    "print(\"number of parameters: %.2fM\" % (num/1e6,))\n",
    "model"
   ]
  },
  {
   "cell_type": "code",
   "execution_count": 22,
   "metadata": {},
   "outputs": [],
   "source": [
    "lr=0.0001\n",
    "optimizer = torch.optim.Adam(model.parameters(), lr=lr)\n",
    "loss_func=torch.nn.CrossEntropyLoss(ignore_index=389)"
   ]
  },
  {
   "cell_type": "code",
   "execution_count": 23,
   "metadata": {},
   "outputs": [
    {
     "data": {
      "text/plain": [
       "Model(\n",
       "  (transformer): ModuleDict(\n",
       "    (wte): Embedding(390, 512)\n",
       "    (wpe): Embedding(2048, 512)\n",
       "    (drop): Dropout(p=0.1, inplace=False)\n",
       "    (h): ModuleList(\n",
       "      (0-5): 6 x Block(\n",
       "        (ln_1): LayerNorm((512,), eps=1e-05, elementwise_affine=True)\n",
       "        (attn): CausalSelfAttention(\n",
       "          (c_attn): Linear(in_features=512, out_features=1536, bias=True)\n",
       "          (c_proj): Linear(in_features=512, out_features=512, bias=True)\n",
       "          (attn_dropout): Dropout(p=0.1, inplace=False)\n",
       "          (resid_dropout): Dropout(p=0.1, inplace=False)\n",
       "        )\n",
       "        (ln_2): LayerNorm((512,), eps=1e-05, elementwise_affine=True)\n",
       "        (mlp): ModuleDict(\n",
       "          (c_fc): Linear(in_features=512, out_features=2048, bias=True)\n",
       "          (c_proj): Linear(in_features=2048, out_features=512, bias=True)\n",
       "          (act): GELU()\n",
       "          (dropout): Dropout(p=0.1, inplace=False)\n",
       "        )\n",
       "      )\n",
       "    )\n",
       "    (ln_f): LayerNorm((512,), eps=1e-05, elementwise_affine=True)\n",
       "  )\n",
       "  (lm_head): Linear(in_features=512, out_features=390, bias=False)\n",
       ")"
      ]
     },
     "execution_count": 23,
     "metadata": {},
     "output_type": "execute_result"
    }
   ],
   "source": [
    "model.train()"
   ]
  },
  {
   "cell_type": "code",
   "execution_count": null,
   "metadata": {},
   "outputs": [
    {
     "name": "stderr",
     "output_type": "stream",
     "text": [
      "100%|██████████| 484/484 [01:00<00:00,  7.95it/s, epoch=1, loss=4.24] \n",
      "100%|██████████| 484/484 [01:00<00:00,  7.99it/s, epoch=2, loss=3.94]\n",
      "100%|██████████| 484/484 [01:00<00:00,  7.99it/s, epoch=3, loss=3.81]\n",
      "100%|██████████| 484/484 [01:00<00:00,  7.97it/s, epoch=4, loss=3.72] \n",
      "100%|██████████| 484/484 [01:00<00:00,  7.98it/s, epoch=5, loss=3.62] \n",
      "100%|██████████| 484/484 [01:00<00:00,  7.98it/s, epoch=6, loss=3.52] \n",
      "100%|██████████| 484/484 [01:00<00:00,  7.95it/s, epoch=7, loss=3.44] \n",
      "100%|██████████| 484/484 [01:00<00:00,  7.96it/s, epoch=8, loss=3.38] \n",
      "100%|██████████| 484/484 [01:40<00:00,  4.80it/s, epoch=9, loss=3.32]\n",
      "100%|██████████| 484/484 [00:20<00:00, 23.52it/s, epoch=10, loss=3.26]   \n",
      "100%|██████████| 484/484 [01:00<00:00,  7.96it/s, epoch=11, loss=3.21] \n",
      "100%|██████████| 484/484 [01:00<00:00,  7.96it/s, epoch=12, loss=3.17] \n",
      "100%|██████████| 484/484 [01:00<00:00,  7.97it/s, epoch=13, loss=3.13] \n",
      "100%|██████████| 484/484 [01:00<00:00,  7.96it/s, epoch=14, loss=3.09] \n",
      "100%|██████████| 484/484 [01:00<00:00,  7.96it/s, epoch=15, loss=3.05]\n",
      "100%|██████████| 484/484 [01:00<00:00,  7.99it/s, epoch=16, loss=3.01] \n",
      "100%|██████████| 484/484 [01:00<00:00,  8.00it/s, epoch=17, loss=2.97] \n",
      "100%|██████████| 484/484 [01:00<00:00,  7.98it/s, epoch=18, loss=2.92] \n",
      "100%|██████████| 484/484 [01:00<00:00,  7.99it/s, epoch=19, loss=2.88] \n",
      "100%|██████████| 484/484 [01:00<00:00,  7.99it/s, epoch=20, loss=2.83] \n",
      "100%|██████████| 484/484 [01:00<00:00,  8.00it/s, epoch=21, loss=2.78] \n",
      "100%|██████████| 484/484 [01:00<00:00,  8.00it/s, epoch=22, loss=2.73]\n",
      "100%|██████████| 484/484 [01:40<00:00,  4.81it/s, epoch=23, loss=2.68]\n",
      "100%|██████████| 484/484 [01:00<00:00,  7.99it/s, epoch=24, loss=2.64] \n",
      "100%|██████████| 484/484 [01:00<00:00,  7.99it/s, epoch=25, loss=2.59] \n",
      "100%|██████████| 484/484 [01:00<00:00,  7.99it/s, epoch=26, loss=2.55] \n",
      "100%|██████████| 484/484 [01:00<00:00,  7.98it/s, epoch=27, loss=2.51] \n",
      "100%|██████████| 484/484 [01:00<00:00,  7.99it/s, epoch=28, loss=2.46] \n",
      "100%|██████████| 484/484 [01:00<00:00,  8.00it/s, epoch=29, loss=2.42] \n",
      "100%|██████████| 484/484 [01:00<00:00,  8.00it/s, epoch=30, loss=2.38]\n",
      "100%|██████████| 484/484 [01:40<00:00,  4.81it/s, epoch=31, loss=2.34]\n",
      "100%|██████████| 484/484 [01:00<00:00,  7.99it/s, epoch=32, loss=2.3]  \n",
      "100%|██████████| 484/484 [01:00<00:00,  7.99it/s, epoch=33, loss=2.27] \n",
      "100%|██████████| 484/484 [01:00<00:00,  7.98it/s, epoch=34, loss=2.23] \n",
      "100%|██████████| 484/484 [01:00<00:00,  7.98it/s, epoch=35, loss=2.2]  \n",
      "100%|██████████| 484/484 [01:00<00:00,  7.99it/s, epoch=36, loss=2.17] \n",
      "100%|██████████| 484/484 [01:00<00:00,  7.99it/s, epoch=37, loss=2.13] \n",
      "100%|██████████| 484/484 [01:00<00:00,  7.99it/s, epoch=38, loss=2.09]\n",
      "100%|██████████| 484/484 [01:00<00:00,  7.99it/s, epoch=39, loss=2.06]\n",
      "100%|██████████| 484/484 [01:00<00:00,  7.99it/s, epoch=40, loss=2.03] \n",
      "100%|██████████| 484/484 [01:00<00:00,  7.99it/s, epoch=41, loss=1.99] \n",
      "100%|██████████| 484/484 [01:00<00:00,  7.99it/s, epoch=42, loss=1.96] \n",
      "100%|██████████| 484/484 [01:00<00:00,  7.99it/s, epoch=43, loss=1.93] \n",
      "100%|██████████| 484/484 [01:00<00:00,  8.00it/s, epoch=44, loss=1.9]  \n",
      "100%|██████████| 484/484 [01:00<00:00,  7.99it/s, epoch=45, loss=1.87] \n",
      "100%|██████████| 484/484 [01:00<00:00,  7.99it/s, epoch=46, loss=1.83]\n",
      "100%|██████████| 484/484 [00:20<00:00, 23.49it/s, epoch=47, loss=1.8]    \n",
      "100%|██████████| 484/484 [01:40<00:00,  4.81it/s, epoch=48, loss=1.77] \n",
      "100%|██████████| 484/484 [00:20<00:00, 23.29it/s, epoch=49, loss=1.75]\n",
      "100%|██████████| 484/484 [01:00<00:00,  7.99it/s, epoch=50, loss=1.72] \n",
      "100%|██████████| 484/484 [01:00<00:00,  7.98it/s, epoch=51, loss=1.69] \n",
      "100%|██████████| 484/484 [01:00<00:00,  7.99it/s, epoch=52, loss=1.68] \n",
      "100%|██████████| 484/484 [01:00<00:00,  7.99it/s, epoch=53, loss=1.64]\n",
      "100%|██████████| 484/484 [01:00<00:00,  7.99it/s, epoch=54, loss=1.62]\n",
      "100%|██████████| 484/484 [01:00<00:00,  7.98it/s, epoch=55, loss=1.59] \n",
      "100%|██████████| 484/484 [01:00<00:00,  7.99it/s, epoch=56, loss=1.57] \n",
      "100%|██████████| 484/484 [01:00<00:00,  7.99it/s, epoch=57, loss=1.54] \n",
      "100%|██████████| 484/484 [01:00<00:00,  7.99it/s, epoch=58, loss=1.52] \n",
      "100%|██████████| 484/484 [01:00<00:00,  7.98it/s, epoch=59, loss=1.5]  \n",
      "100%|██████████| 484/484 [01:00<00:00,  7.99it/s, epoch=60, loss=1.47] \n",
      "100%|██████████| 484/484 [01:40<00:00,  4.81it/s, epoch=61, loss=1.45]\n",
      "100%|██████████| 484/484 [01:00<00:00,  7.99it/s, epoch=62, loss=1.43] \n",
      "100%|██████████| 484/484 [01:00<00:00,  7.98it/s, epoch=63, loss=1.41] \n",
      "100%|██████████| 484/484 [01:00<00:00,  7.99it/s, epoch=64, loss=1.39] \n",
      "100%|██████████| 484/484 [01:00<00:00,  7.99it/s, epoch=65, loss=1.37] \n",
      "100%|██████████| 484/484 [01:00<00:00,  7.99it/s, epoch=66, loss=1.35] \n",
      "100%|██████████| 484/484 [01:00<00:00,  7.98it/s, epoch=67, loss=1.32] \n",
      "100%|██████████| 484/484 [01:00<00:00,  7.99it/s, epoch=68, loss=1.3] \n",
      "100%|██████████| 484/484 [01:00<00:00,  7.99it/s, epoch=69, loss=1.29]\n",
      "100%|██████████| 484/484 [01:00<00:00,  7.98it/s, epoch=70, loss=1.27] \n",
      "100%|██████████| 484/484 [01:00<00:00,  7.98it/s, epoch=71, loss=1.25] \n",
      "100%|██████████| 484/484 [01:00<00:00,  7.99it/s, epoch=72, loss=1.23] \n",
      "100%|██████████| 484/484 [01:00<00:00,  7.99it/s, epoch=73, loss=1.21] \n",
      "100%|██████████| 484/484 [01:00<00:00,  7.98it/s, epoch=74, loss=1.2]  \n",
      "100%|██████████| 484/484 [01:00<00:00,  7.96it/s, epoch=75, loss=1.18] \n",
      "100%|██████████| 484/484 [01:40<00:00,  4.83it/s, epoch=76, loss=1.16]\n",
      "100%|██████████| 484/484 [00:20<00:00, 23.33it/s, epoch=77, loss=1.15]   \n",
      "  7%|▋         | 33/484 [00:44<1:30:53, 12.09s/it, epoch=78, loss=1.1]IOStream.flush timed out\n",
      "100%|██████████| 484/484 [01:00<00:00,  7.98it/s, epoch=78, loss=1.13] \n",
      "100%|██████████| 484/484 [01:00<00:00,  7.98it/s, epoch=79, loss=1.11] \n",
      "100%|██████████| 484/484 [01:00<00:00,  7.99it/s, epoch=80, loss=1.1]  \n",
      "100%|██████████| 484/484 [01:00<00:00,  7.99it/s, epoch=81, loss=1.08] \n",
      "100%|██████████| 484/484 [01:00<00:00,  7.99it/s, epoch=82, loss=1.06]  \n",
      "100%|██████████| 484/484 [01:00<00:00,  7.98it/s, epoch=83, loss=1.05] \n",
      "100%|██████████| 484/484 [01:00<00:00,  7.99it/s, epoch=84, loss=1.04] \n",
      "100%|██████████| 484/484 [01:00<00:00,  7.99it/s, epoch=85, loss=1.03]  \n",
      "100%|██████████| 484/484 [01:00<00:00,  7.99it/s, epoch=86, loss=1.01]  \n",
      "100%|██████████| 484/484 [01:00<00:00,  7.98it/s, epoch=87, loss=0.994] \n",
      "100%|██████████| 484/484 [01:00<00:00,  7.99it/s, epoch=88, loss=0.984] \n",
      "100%|██████████| 484/484 [01:00<00:00,  7.99it/s, epoch=89, loss=0.972] \n",
      "100%|██████████| 484/484 [01:00<00:00,  7.99it/s, epoch=90, loss=0.956] \n",
      "100%|██████████| 484/484 [01:40<00:00,  4.81it/s, epoch=91, loss=0.945]\n",
      "100%|██████████| 484/484 [00:20<00:00, 23.23it/s, epoch=92, loss=0.931]   \n",
      "100%|██████████| 484/484 [01:00<00:00,  7.98it/s, epoch=93, loss=0.917] \n",
      "100%|██████████| 484/484 [01:00<00:00,  7.98it/s, epoch=94, loss=0.909] \n",
      "100%|██████████| 484/484 [01:00<00:00,  7.99it/s, epoch=95, loss=0.895] \n",
      "100%|██████████| 484/484 [01:00<00:00,  7.99it/s, epoch=96, loss=0.884] \n",
      "100%|██████████| 484/484 [01:00<00:00,  7.99it/s, epoch=97, loss=0.874]\n",
      "100%|██████████| 484/484 [01:40<00:00,  4.82it/s, epoch=98, loss=0.861]\n",
      "100%|██████████| 484/484 [00:20<00:00, 23.29it/s, epoch=99, loss=0.85]    \n",
      "100%|██████████| 484/484 [01:00<00:00,  7.99it/s, epoch=100, loss=0.843] \n"
     ]
    }
   ],
   "source": [
    "#from tqdm import tqdm\n",
    "# for i in range(1, 101):\n",
    "#     loop = tqdm(trainloader, leave=True)\n",
    "#     tloss = 0\n",
    "#     for idx, (x, y) in enumerate(loop):\n",
    "#         x, y = x.to(device), y.to(device)\n",
    "#         output = model(x)\n",
    "#         loss = loss_func(output.view(-1, output.size(-1)), y.view(-1))\n",
    "#         optimizer.zero_grad()\n",
    "#         loss.backward()\n",
    "#         optimizer.step()\n",
    "#         tloss += loss.item()\n",
    "#         loop.set_postfix(loss=tloss/(idx+1), epoch=i)\n",
    "#     torch.save(model.state_dict(), f\"files/musicTrans.pth\")"
   ]
  },
  {
   "cell_type": "code",
   "execution_count": null,
   "metadata": {},
   "outputs": [],
   "source": []
  }
 ],
 "metadata": {
  "kernelspec": {
   "display_name": "nvidia-pytorch",
   "language": "python",
   "name": "python3"
  },
  "language_info": {
   "codemirror_mode": {
    "name": "ipython",
    "version": 3
   },
   "file_extension": ".py",
   "mimetype": "text/x-python",
   "name": "python",
   "nbconvert_exporter": "python",
   "pygments_lexer": "ipython3",
   "version": "3.11.2"
  }
 },
 "nbformat": 4,
 "nbformat_minor": 2
}
