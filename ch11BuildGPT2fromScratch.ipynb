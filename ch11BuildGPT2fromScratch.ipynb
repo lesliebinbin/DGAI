{
 "cells": [
  {
   "cell_type": "markdown",
   "id": "653089c9",
   "metadata": {},
   "source": [
    "# Chapter 11: Building A Generative Pre-Trained Transformer (GPT) from Scratch\n",
    "\n",
    "This chapter covers\n",
    "\n",
    "* How to build a generative pre-trained Transformer (GPT) from scratch\n",
    "* How causal self-attention works\n",
    "* How to extract model weights from a pre-trained model and load them to your own\n",
    "* Generating coherent text using GPT-2, the predecessor of ChatGPT and GPT-4\n",
    "\n",
    "Generative Pre-trained Transformer 2 (GPT-2) is an advanced large language model (LLM) developed by OpenAI and announced in February 2019. It represents a significant milestone in the field of natural language processing (NLP) and has paved the way for the development of even more sophisticated models, including its successors, ChatGPT and GPT-4. \n",
    "\n",
    "GPT-2 was introduced in 2018 as an improvement over its predecessor, GPT-1. GPT-2 was designed to generate coherent and contextually relevant text based on a given prompt, demonstrating a remarkable ability to mimic human-like text generation across various styles and topics. Upon its announcement, OpenAI initially decided not to release to the public the most powerful version of GPT-2 (also the one you’ll build from scratch in this chapter, with 1.5 billion parameters). The main concern was potential misuse, such as generating misleading news articles, impersonating individuals online, or automating the production of abusive or fake content. This decision sparked a significant debate within the AI and tech communities about the ethics of AI development and the balance between innovation and safety.\n",
    "\n",
    "OpenAI later adopted a staggered release strategy, gradually making smaller versions of the model available while monitoring the impact and exploring safe deployment strategies. Eventually, in November 2019, OpenAI released the full model, along with several datasets and a tool to detect model-generated text, contributing to discussions on responsible AI usage. Because of this release, you’ll learn to extract the pre-trained weights from GPT-2 and load them to the GPT-2 model that you create.\n",
    "\n",
    "GPT-2 is based on the Transformer architecture that we discussed in Chapters 9 and 10. However, unlike the English-to-French translator you created before, GPT-2 is a decoder-only Transformer, meaning there is no encoder stack in the model. When translating an English phrase into French, the encoder captures the meaning of the English phrase and passes it to the decoder to generate the translation. However, in text generation tasks, the model does not need an encoder to understand a different language. Instead, it generates text based on the previous tokens in the sentence.   Like other Transformer models, GPT-2 uses self-attention mechanisms to process input data in parallel, significantly improving the efficiency and effectiveness of training large language models. \n",
    "\n",
    "GPT-2 is pre-trained on a large corpus of text data, essentially predicting the next word in a sentence given the words that precede it. This training enables the model to learn a wide range of language patterns, grammar, and knowledge. \n",
    "\n",
    "In this chapter, you’ll learn to build GPT-2XL, the largest version of GPT-2, from scratch. After that, you’ll learn how to extract the pre-trained weights from Hugging Face (an AI community that hosts and collaborates on ML models, datasets, and applications) and load them to your own GPT-2 model. You’ll use your GPT-2 to generate text by feeding a prompt to the model. GPT-2 calculates the probabilities of possible next tokens and samples from these probabilities. It can produce coherent and contextually relevant paragraphs of text based on the input prompt it receives. Additionally, as you did in Chapter 8, you can control the creativeness of the generated text by using temperature and top-K sampling. \n",
    "\n",
    "While GPT-2 marks a notable advance in NLP, it's essential to moderate your expectations and recognize its inherent limitations. It's crucial not to compare GPT-2 with ChatGPT or GPT-4 directly, as GPT-2XL has only 1.5 billion parameters compared to ChatGPT's 175 billion and GPT-4's estimated 1.76 trillion parameters.  One of the main limitations of GPT-2 is its lack of genuine comprehension of the content it generates. The model predicts the next word in a sequence based on the probability distribution of words in its training data, which can produce syntactically correct and seemingly logical text. However, the model lacks a true understanding of the meaning behind the words, leading to potential inaccuracies, nonsensical statements, or superficial content.\n",
    "\n",
    "Another key issue is GPT-2's limited contextual awareness. While it can maintain coherence over short spans of text, it struggles with longer passages, potentially resulting in a loss of coherence, contradictions, or irrelevant content. We should be cautious not to overestimate the model's ability to generate long-form content that requires sustained attention to context and detail. Therefore, while GPT-2 represents a significant step forward in NLP, it's important to approach its generated text with a healthy dose of skepticism and set realistic expectations. "
   ]
  },
  {
   "cell_type": "markdown",
   "id": "7d58fa75",
   "metadata": {},
   "source": [
    "# 1.\tGPT-2 Architecture and Causal Self-Attention\n",
    "## 1.1.\tThe architecture of GPT-2\n",
    "## 1.2.\tWord embedding and positional encoding in GPT-2"
   ]
  },
  {
   "cell_type": "markdown",
   "id": "49d66838",
   "metadata": {},
   "source": [
    "## 1.3.\tCausal Self-Attention in GPT-2"
   ]
  },
  {
   "cell_type": "code",
   "execution_count": 1,
   "id": "62e7e5c4",
   "metadata": {},
   "outputs": [
    {
     "name": "stdout",
     "output_type": "stream",
     "text": [
      "the shape of Q vector is torch.Size([1, 4, 1600])\n",
      "the shape of K vector is torch.Size([1, 4, 1600])\n",
      "the shape of V vector is torch.Size([1, 4, 1600])\n"
     ]
    }
   ],
   "source": [
    "import torch\n",
    "import torch.nn as nn\n",
    "\n",
    "torch.manual_seed(42)\n",
    "x=torch.randn((1,4,1600))\n",
    "c_attn=nn.Linear(1600,1600*3)\n",
    "B,T,C=x.size()\n",
    "q,k,v=c_attn(x).split(1600,dim=2)\n",
    "print(f\"the shape of Q vector is {q.size()}\")\n",
    "print(f\"the shape of K vector is {k.size()}\")\n",
    "print(f\"the shape of V vector is {v.size()}\")"
   ]
  },
  {
   "cell_type": "code",
   "execution_count": 2,
   "id": "2c239f8a",
   "metadata": {},
   "outputs": [
    {
     "name": "stdout",
     "output_type": "stream",
     "text": [
      "the shape of Q vector is torch.Size([1, 25, 4, 64])\n",
      "the shape of K vector is torch.Size([1, 25, 4, 64])\n",
      "the shape of V vector is torch.Size([1, 25, 4, 64])\n"
     ]
    }
   ],
   "source": [
    "hs=C//25\n",
    "k = k.view(B, T, 25, hs).transpose(1, 2) \n",
    "q = q.view(B, T, 25, hs).transpose(1, 2) \n",
    "v = v.view(B, T, 25, hs).transpose(1, 2) \n",
    "print(f\"the shape of Q vector is {q.size()}\")\n",
    "print(f\"the shape of K vector is {k.size()}\")\n",
    "print(f\"the shape of V vector is {v.size()}\")"
   ]
  },
  {
   "cell_type": "code",
   "execution_count": 3,
   "id": "43119d35",
   "metadata": {},
   "outputs": [
    {
     "name": "stdout",
     "output_type": "stream",
     "text": [
      "tensor([[ 0.2334,  0.1385, -0.1305,  0.2664],\n",
      "        [ 0.2916,  0.1044,  0.0095,  0.0993],\n",
      "        [ 0.8250,  0.2454,  0.0214,  0.8667],\n",
      "        [-0.1557,  0.2034,  0.2172, -0.2740]], grad_fn=<SelectBackward0>)\n"
     ]
    }
   ],
   "source": [
    "import math\n",
    "scaled_att = (q @ k.transpose(-2, -1)) *\\\n",
    "            (1.0 / math.sqrt(k.size(-1)))\n",
    "print(scaled_att[0,0]) "
   ]
  },
  {
   "cell_type": "code",
   "execution_count": 4,
   "id": "4205fcd9",
   "metadata": {
    "scrolled": true
   },
   "outputs": [
    {
     "name": "stdout",
     "output_type": "stream",
     "text": [
      "tensor([[-0.1720, -0.2462, -0.5019,  0.1796],\n",
      "        [-0.1566,  0.3681, -0.2610,  0.1355],\n",
      "        [ 0.4394, -0.5173, -0.1076, -0.3687],\n",
      "        [-0.0101,  0.6201,  0.3146, -0.0139]], grad_fn=<SelectBackward0>)\n"
     ]
    }
   ],
   "source": [
    "# answer to exercise 11.1\n",
    "# print out the scaled attention scores in the second head\n",
    "print(scaled_att[0,1]) "
   ]
  },
  {
   "cell_type": "code",
   "execution_count": 5,
   "id": "3b7471fd",
   "metadata": {},
   "outputs": [
    {
     "name": "stdout",
     "output_type": "stream",
     "text": [
      "tensor([[1., 0., 0., 0.],\n",
      "        [1., 1., 0., 0.],\n",
      "        [1., 1., 1., 0.],\n",
      "        [1., 1., 1., 1.]])\n",
      "tensor([[ 0.2334,    -inf,    -inf,    -inf],\n",
      "        [ 0.2916,  0.1044,    -inf,    -inf],\n",
      "        [ 0.8250,  0.2454,  0.0214,    -inf],\n",
      "        [-0.1557,  0.2034,  0.2172, -0.2740]], grad_fn=<SelectBackward0>)\n"
     ]
    }
   ],
   "source": [
    "mask=torch.tril(torch.ones(4,4))\n",
    "print(mask)\n",
    "masked_scaled_att=scaled_att.masked_fill(\\\n",
    "    mask == 0, float('-inf'))\n",
    "print(masked_scaled_att[0,0]) "
   ]
  },
  {
   "cell_type": "code",
   "execution_count": 6,
   "id": "af4eabd2",
   "metadata": {},
   "outputs": [
    {
     "name": "stdout",
     "output_type": "stream",
     "text": [
      "tensor([[1.0000, 0.0000, 0.0000, 0.0000],\n",
      "        [0.5467, 0.4533, 0.0000, 0.0000],\n",
      "        [0.4980, 0.2790, 0.2230, 0.0000],\n",
      "        [0.2095, 0.3001, 0.3042, 0.1862]], grad_fn=<SelectBackward0>)\n"
     ]
    }
   ],
   "source": [
    "import torch.nn.functional as F\n",
    "att = F.softmax(masked_scaled_att, dim=-1)\n",
    "print(att[0,0])"
   ]
  },
  {
   "cell_type": "code",
   "execution_count": 7,
   "id": "5bb225bc",
   "metadata": {},
   "outputs": [
    {
     "name": "stdout",
     "output_type": "stream",
     "text": [
      "tensor([[1.0000, 0.0000, 0.0000, 0.0000],\n",
      "        [0.4055, 0.5945, 0.0000, 0.0000],\n",
      "        [0.3726, 0.3248, 0.3026, 0.0000],\n",
      "        [0.2666, 0.1902, 0.3133, 0.2298]], grad_fn=<SelectBackward0>)\n"
     ]
    }
   ],
   "source": [
    "# answer to exercise 11.2\n",
    "# print out the attention weights in the last head\n",
    "print(att[0,-1]) "
   ]
  },
  {
   "cell_type": "code",
   "execution_count": 8,
   "id": "61382776",
   "metadata": {},
   "outputs": [
    {
     "name": "stdout",
     "output_type": "stream",
     "text": [
      "torch.Size([1, 4, 1600])\n"
     ]
    }
   ],
   "source": [
    "y=att@v\n",
    "y = y.transpose(1, 2).contiguous().view(B, T, C)\n",
    "print(y.shape)"
   ]
  },
  {
   "cell_type": "markdown",
   "id": "c268aecc",
   "metadata": {},
   "source": [
    "# 2.\tBuild GPT-2XL from scratch\n",
    "\n",
    "## 2.1. \tByte pair encoder (BPE) tokenization"
   ]
  },
  {
   "cell_type": "code",
   "execution_count": 9,
   "id": "fbfb8bd9",
   "metadata": {},
   "outputs": [
    {
     "name": "stdout",
     "output_type": "stream",
     "text": [
      "['This', ' is', ' the', ' original', ' text', '.']\n"
     ]
    }
   ],
   "source": [
    "from utils.bpe import get_encoder\n",
    "\n",
    "example=\"This is the original text.\"\n",
    "bpe_encoder=get_encoder()\n",
    "response=bpe_encoder.encode_and_show_work(example)\n",
    "print(response[\"tokens\"])"
   ]
  },
  {
   "cell_type": "code",
   "execution_count": 10,
   "id": "c57af8c2",
   "metadata": {},
   "outputs": [
    {
     "name": "stdout",
     "output_type": "stream",
     "text": [
      "[1212, 318, 262, 2656, 2420, 13]\n"
     ]
    }
   ],
   "source": [
    "print(response['bpe_idx'])"
   ]
  },
  {
   "cell_type": "code",
   "execution_count": 11,
   "id": "d9d786ec",
   "metadata": {},
   "outputs": [
    {
     "name": "stdout",
     "output_type": "stream",
     "text": [
      "This is the original text.\n"
     ]
    }
   ],
   "source": [
    "from utils.bpe import BPETokenizer \n",
    "\n",
    "tokenizer = BPETokenizer()\n",
    "out=tokenizer.decode(torch.LongTensor(response['bpe_idx']))   \n",
    "print(out)"
   ]
  },
  {
   "cell_type": "code",
   "execution_count": 12,
   "id": "6630782c",
   "metadata": {},
   "outputs": [
    {
     "name": "stdout",
     "output_type": "stream",
     "text": [
      "['this', ' is', ' a', ' prompt']\n",
      "[5661, 318, 257, 6152]\n",
      "this is a prompt\n"
     ]
    }
   ],
   "source": [
    "# answer to exercise 11.3\n",
    "# split the phrase \"this is a prompt\" into tokens\n",
    "example=\"this is a prompt\"\n",
    "bpe_encoder=get_encoder()\n",
    "response=bpe_encoder.encode_and_show_work(example)\n",
    "print(response[\"tokens\"])\n",
    "# After that, map the tokens to indexes\n",
    "print(response['bpe_idx'])\n",
    "# Finally, restore the phrase based on the indexes \n",
    "out=tokenizer.decode(torch.LongTensor(response['bpe_idx']))   \n",
    "print(out)"
   ]
  },
  {
   "cell_type": "markdown",
   "id": "d8e0b2e3",
   "metadata": {},
   "source": [
    "## 2.2.\tThe GELU activation function"
   ]
  },
  {
   "cell_type": "code",
   "execution_count": 13,
   "id": "5a3bce99",
   "metadata": {},
   "outputs": [],
   "source": [
    "class GELU(nn.Module):\n",
    "    def forward(self, x):\n",
    "        return 0.5*x*(1.0+torch.tanh(math.sqrt(2.0/math.pi)*\\\n",
    "                       (x + 0.044715 * torch.pow(x, 3.0))))"
   ]
  },
  {
   "cell_type": "code",
   "execution_count": 14,
   "id": "36f17e3d",
   "metadata": {},
   "outputs": [
    {
     "data": {
      "image/png": "[encoded data removed]",
      "text/plain": [
       "<Figure size 1800x1200 with 1 Axes>"
      ]
     },
     "metadata": {},
     "output_type": "display_data"
    }
   ],
   "source": [
    "import matplotlib.pyplot as plt\n",
    "import numpy as np\n",
    "\n",
    "genu=GELU()\n",
    "def relu(x):\n",
    "    y=torch.zeros(len(x))\n",
    "    for i in range(len(x)):\n",
    "        if x[i]>0:\n",
    "            y[i]=x[i]\n",
    "    return y                 \n",
    "xs = torch.linspace(-6,6,300)\n",
    "ys=relu(xs)\n",
    "gs=genu(xs)\n",
    "fig, ax = plt.subplots(figsize=(6,4),dpi=300)\n",
    "plt.xlim(-3,3)\n",
    "plt.ylim(-0.5,3.5)\n",
    "plt.plot(xs, ys, color = 'blue', label=\"ReLU\")\n",
    "plt.plot(xs, gs, \"--\", color = 'red', label=\"GELU\")\n",
    "plt.legend(fontsize=15)\n",
    "plt.xlabel(\"values of x\")\n",
    "plt.ylabel(\"values of $ReLU(x)$ and $GELU(x)$\")\n",
    "plt.title(\"The ReLU and GELU Activation Functions\")\n",
    "plt.show()"
   ]
  },
  {
   "cell_type": "markdown",
   "id": "6a73649b",
   "metadata": {},
   "source": [
    "## 2.3.\tCausal self-attention"
   ]
  },
  {
   "cell_type": "code",
   "execution_count": null,
   "id": "42cda9e4",
   "metadata": {},
   "outputs": [],
   "source": [
    "# define hyperparameters\n",
    "class Config():\n",
    "    def __init__(self):\n",
    "        self.n_layer = 48\n",
    "        self.n_head = 25\n",
    "        self.n_embd = 1600\n",
    "        self.vocab_size = 50257\n",
    "        self.block_size = 1024 \n",
    "        self.embd_pdrop = 0.1 \n",
    "        self.resid_pdrop = 0.1 \n",
    "        self.attn_pdrop = 0.1 \n",
    "        \n",
    "# instantiate a Config() class\n",
    "config=Config()"
   ]
  },
  {
   "cell_type": "code",
   "execution_count": 16,
   "id": "3655fc42",
   "metadata": {},
   "outputs": [],
   "source": [
    "class CausalSelfAttention(nn.Module):\n",
    "    def __init__(self, config):\n",
    "        super().__init__()\n",
    "        self.c_attn = nn.Linear(config.n_embd, 3 * config.n_embd)\n",
    "        self.c_proj = nn.Linear(config.n_embd, config.n_embd)\n",
    "        self.attn_dropout = nn.Dropout(config.attn_pdrop)\n",
    "        self.resid_dropout = nn.Dropout(config.resid_pdrop)\n",
    "        self.register_buffer(\"bias\", torch.tril(torch.ones(\\\n",
    "                   config.block_size, config.block_size))\n",
    "             .view(1, 1, config.block_size, config.block_size))\n",
    "        self.n_head = config.n_head\n",
    "        self.n_embd = config.n_embd\n",
    "\n",
    "    def forward(self, x):\n",
    "        B, T, C = x.size() \n",
    "        q, k ,v  = self.c_attn(x).split(self.n_embd, dim=2)\n",
    "        hs = C // self.n_head\n",
    "        k = k.view(B, T, self.n_head, hs).transpose(1, 2) \n",
    "        q = q.view(B, T, self.n_head, hs).transpose(1, 2) \n",
    "        v = v.view(B, T, self.n_head, hs).transpose(1, 2) \n",
    "\n",
    "        att = (q @ k.transpose(-2, -1)) *\\\n",
    "            (1.0 / math.sqrt(k.size(-1)))\n",
    "        att = att.masked_fill(self.bias[:,:,:T,:T] == 0, \\\n",
    "                              float('-inf'))\n",
    "        att = F.softmax(att, dim=-1)\n",
    "        att = self.attn_dropout(att)\n",
    "        y = att @ v \n",
    "        y = y.transpose(1, 2).contiguous().view(B, T, C)\n",
    "        y = self.resid_dropout(self.c_proj(y))\n",
    "        return y"
   ]
  },
  {
   "cell_type": "markdown",
   "id": "009d7b1c",
   "metadata": {},
   "source": [
    "## 2.4.\tConstruct the GPT-2XL model"
   ]
  },
  {
   "cell_type": "code",
   "execution_count": 17,
   "id": "64b84f7b",
   "metadata": {},
   "outputs": [],
   "source": [
    "class Block(nn.Module):\n",
    "    def __init__(self, config):\n",
    "        super().__init__()\n",
    "        self.ln_1 = nn.LayerNorm(config.n_embd)\n",
    "        self.attn = CausalSelfAttention(config)\n",
    "        self.ln_2 = nn.LayerNorm(config.n_embd)\n",
    "        self.mlp = nn.ModuleDict(dict(\n",
    "            c_fc   = nn.Linear(config.n_embd, 4 * config.n_embd),\n",
    "            c_proj = nn.Linear(4 * config.n_embd, config.n_embd),\n",
    "            act    = GELU(),\n",
    "            dropout = nn.Dropout(config.resid_pdrop),\n",
    "        ))\n",
    "        m = self.mlp\n",
    "        self.mlpf=lambda x:m.dropout(m.c_proj(m.act(m.c_fc(x)))) \n",
    "\n",
    "    def forward(self, x):\n",
    "        x = x + self.attn(self.ln_1(x))\n",
    "        x = x + self.mlpf(self.ln_2(x))\n",
    "        return x"
   ]
  },
  {
   "cell_type": "code",
   "execution_count": 18,
   "id": "3ccdd1ae",
   "metadata": {},
   "outputs": [],
   "source": [
    "class GPT2XL(nn.Module):\n",
    "    def __init__(self, config):\n",
    "        super().__init__()\n",
    "        self.block_size = config.block_size\n",
    "        self.transformer = nn.ModuleDict(dict(\n",
    "            wte = nn.Embedding(config.vocab_size, config.n_embd),\n",
    "            wpe = nn.Embedding(config.block_size, config.n_embd),\n",
    "            drop = nn.Dropout(config.embd_pdrop),\n",
    "            h = nn.ModuleList([Block(config) \n",
    "                               for _ in range(config.n_layer)]),\n",
    "            ln_f = nn.LayerNorm(config.n_embd),))\n",
    "        self.lm_head = nn.Linear(config.n_embd,\n",
    "                                 config.vocab_size, bias=False)      \n",
    "    def forward(self, idx, targets=None):\n",
    "        b, t = idx.size()\n",
    "        pos = torch.arange(0,t,dtype=torch.long).unsqueeze(0)\n",
    "        tok_emb = self.transformer.wte(idx) \n",
    "        pos_emb = self.transformer.wpe(pos) \n",
    "        x = self.transformer.drop(tok_emb + pos_emb)\n",
    "        for block in self.transformer.h:\n",
    "            x = block(x)\n",
    "        x = self.transformer.ln_f(x)\n",
    "        logits = self.lm_head(x)\n",
    "        loss = None\n",
    "        if targets is not None:\n",
    "            loss=F.cross_entropy(logits.view(-1,logits.size(-1)),\n",
    "                           targets.view(-1), ignore_index=-1)\n",
    "        return logits, loss"
   ]
  },
  {
   "cell_type": "code",
   "execution_count": 19,
   "id": "e0b8ae7f",
   "metadata": {},
   "outputs": [
    {
     "name": "stdout",
     "output_type": "stream",
     "text": [
      "number of parameters: 1557.61M\n"
     ]
    }
   ],
   "source": [
    "model=GPT2XL(config)\n",
    "num=sum(p.numel() for p in model.transformer.parameters())\n",
    "print(\"number of parameters: %.2fM\" % (num/1e6,))"
   ]
  },
  {
   "cell_type": "code",
   "execution_count": 20,
   "id": "a912defe",
   "metadata": {},
   "outputs": [
    {
     "name": "stdout",
     "output_type": "stream",
     "text": [
      "GPT2XL(\n",
      "  (transformer): ModuleDict(\n",
      "    (wte): Embedding(50257, 1600)\n",
      "    (wpe): Embedding(1024, 1600)\n",
      "    (drop): Dropout(p=0.1, inplace=False)\n",
      "    (h): ModuleList(\n",
      "      (0-47): 48 x Block(\n",
      "        (ln_1): LayerNorm((1600,), eps=1e-05, elementwise_affine=True)\n",
      "        (attn): CausalSelfAttention(\n",
      "          (c_attn): Linear(in_features=1600, out_features=4800, bias=True)\n",
      "          (c_proj): Linear(in_features=1600, out_features=1600, bias=True)\n",
      "          (attn_dropout): Dropout(p=0.1, inplace=False)\n",
      "          (resid_dropout): Dropout(p=0.1, inplace=False)\n",
      "        )\n",
      "        (ln_2): LayerNorm((1600,), eps=1e-05, elementwise_affine=True)\n",
      "        (mlp): ModuleDict(\n",
      "          (c_fc): Linear(in_features=1600, out_features=6400, bias=True)\n",
      "          (c_proj): Linear(in_features=6400, out_features=1600, bias=True)\n",
      "          (act): GELU()\n",
      "          (dropout): Dropout(p=0.1, inplace=False)\n",
      "        )\n",
      "      )\n",
      "    )\n",
      "    (ln_f): LayerNorm((1600,), eps=1e-05, elementwise_affine=True)\n",
      "  )\n",
      "  (lm_head): Linear(in_features=1600, out_features=50257, bias=False)\n",
      ")\n"
     ]
    }
   ],
   "source": [
    "print(model)"
   ]
  },
  {
   "cell_type": "markdown",
   "id": "be6ee376",
   "metadata": {},
   "source": [
    "# 3.\tLoad up pre-trained weights and generate text\n",
    "## 3.1. \tLoad up pre-trained parameters in GPT-2XL"
   ]
  },
  {
   "cell_type": "code",
   "execution_count": 21,
   "id": "b659aad7",
   "metadata": {},
   "outputs": [
    {
     "name": "stdout",
     "output_type": "stream",
     "text": [
      "Requirement already satisfied: transformers in /opt/homebrew/anaconda3/envs/mac-pytorch/lib/python3.12/site-packages (4.46.3)\n",
      "Requirement already satisfied: filelock in /opt/homebrew/anaconda3/envs/mac-pytorch/lib/python3.12/site-packages (from transformers) (3.13.1)\n",
      "Requirement already satisfied: huggingface-hub<1.0,>=0.23.2 in /opt/homebrew/anaconda3/envs/mac-pytorch/lib/python3.12/site-packages (from transformers) (0.26.2)\n",
      "Requirement already satisfied: numpy>=1.17 in /opt/homebrew/anaconda3/envs/mac-pytorch/lib/python3.12/site-packages (from transformers) (1.26.4)\n",
      "Requirement already satisfied: packaging>=20.0 in /opt/homebrew/anaconda3/envs/mac-pytorch/lib/python3.12/site-packages (from transformers) (24.1)\n",
      "Requirement already satisfied: pyyaml>=5.1 in /opt/homebrew/anaconda3/envs/mac-pytorch/lib/python3.12/site-packages (from transformers) (6.0.2)\n",
      "Requirement already satisfied: regex!=2019.12.17 in /opt/homebrew/anaconda3/envs/mac-pytorch/lib/python3.12/site-packages (from transformers) (2024.11.6)\n",
      "Requirement already satisfied: requests in /opt/homebrew/anaconda3/envs/mac-pytorch/lib/python3.12/site-packages (from transformers) (2.32.3)\n",
      "Requirement already satisfied: tokenizers<0.21,>=0.20 in /opt/homebrew/anaconda3/envs/mac-pytorch/lib/python3.12/site-packages (from transformers) (0.20.3)\n",
      "Requirement already satisfied: safetensors>=0.4.1 in /opt/homebrew/anaconda3/envs/mac-pytorch/lib/python3.12/site-packages (from transformers) (0.4.5)\n",
      "Requirement already satisfied: tqdm>=4.27 in /opt/homebrew/anaconda3/envs/mac-pytorch/lib/python3.12/site-packages (from transformers) (4.67.0)\n",
      "Requirement already satisfied: fsspec>=2023.5.0 in /opt/homebrew/anaconda3/envs/mac-pytorch/lib/python3.12/site-packages (from huggingface-hub<1.0,>=0.23.2->transformers) (2024.9.0)\n",
      "Requirement already satisfied: typing-extensions>=3.7.4.3 in /opt/homebrew/anaconda3/envs/mac-pytorch/lib/python3.12/site-packages (from huggingface-hub<1.0,>=0.23.2->transformers) (4.12.2)\n",
      "Requirement already satisfied: charset-normalizer<4,>=2 in /opt/homebrew/anaconda3/envs/mac-pytorch/lib/python3.12/site-packages (from requests->transformers) (3.3.2)\n",
      "Requirement already satisfied: idna<4,>=2.5 in /opt/homebrew/anaconda3/envs/mac-pytorch/lib/python3.12/site-packages (from requests->transformers) (3.7)\n",
      "Requirement already satisfied: urllib3<3,>=1.21.1 in /opt/homebrew/anaconda3/envs/mac-pytorch/lib/python3.12/site-packages (from requests->transformers) (2.2.3)\n",
      "Requirement already satisfied: certifi>=2017.4.17 in /opt/homebrew/anaconda3/envs/mac-pytorch/lib/python3.12/site-packages (from requests->transformers) (2024.8.30)\n"
     ]
    }
   ],
   "source": [
    "# install the transformers library developed by Hugging Face\n",
    "!pip install transformers"
   ]
  },
  {
   "cell_type": "code",
   "execution_count": 22,
   "id": "1ec5c98c",
   "metadata": {},
   "outputs": [
    {
     "name": "stdout",
     "output_type": "stream",
     "text": [
      "GPT2LMHeadModel(\n",
      "  (transformer): GPT2Model(\n",
      "    (wte): Embedding(50257, 1600)\n",
      "    (wpe): Embedding(1024, 1600)\n",
      "    (drop): Dropout(p=0.1, inplace=False)\n",
      "    (h): ModuleList(\n",
      "      (0-47): 48 x GPT2Block(\n",
      "        (ln_1): LayerNorm((1600,), eps=1e-05, elementwise_affine=True)\n",
      "        (attn): GPT2SdpaAttention(\n",
      "          (c_attn): Conv1D(nf=4800, nx=1600)\n",
      "          (c_proj): Conv1D(nf=1600, nx=1600)\n",
      "          (attn_dropout): Dropout(p=0.1, inplace=False)\n",
      "          (resid_dropout): Dropout(p=0.1, inplace=False)\n",
      "        )\n",
      "        (ln_2): LayerNorm((1600,), eps=1e-05, elementwise_affine=True)\n",
      "        (mlp): GPT2MLP(\n",
      "          (c_fc): Conv1D(nf=6400, nx=1600)\n",
      "          (c_proj): Conv1D(nf=1600, nx=6400)\n",
      "          (act): NewGELUActivation()\n",
      "          (dropout): Dropout(p=0.1, inplace=False)\n",
      "        )\n",
      "      )\n",
      "    )\n",
      "    (ln_f): LayerNorm((1600,), eps=1e-05, elementwise_affine=True)\n",
      "  )\n",
      "  (lm_head): Linear(in_features=1600, out_features=50257, bias=False)\n",
      ")\n"
     ]
    }
   ],
   "source": [
    "from transformers import GPT2LMHeadModel\n",
    "\n",
    "model_hf = GPT2LMHeadModel.from_pretrained('gpt2-xl')\n",
    "sd_hf = model_hf.state_dict()  \n",
    "print(model_hf)"
   ]
  },
  {
   "cell_type": "code",
   "execution_count": 23,
   "id": "43ab7cc0",
   "metadata": {},
   "outputs": [
    {
     "name": "stdout",
     "output_type": "stream",
     "text": [
      "torch.Size([1600, 6400])\n"
     ]
    }
   ],
   "source": [
    "print(model_hf.transformer.h[0].mlp.c_fc.weight.shape) "
   ]
  },
  {
   "cell_type": "code",
   "execution_count": 24,
   "id": "a20bf564",
   "metadata": {},
   "outputs": [
    {
     "name": "stdout",
     "output_type": "stream",
     "text": [
      "torch.Size([6400, 1600])\n"
     ]
    }
   ],
   "source": [
    "print(model.transformer.h[0].mlp.c_fc.weight.shape)"
   ]
  },
  {
   "cell_type": "code",
   "execution_count": 25,
   "id": "08062972",
   "metadata": {},
   "outputs": [],
   "source": [
    "keys = [k for k in sd_hf if not k.endswith('attn.masked_bias')] "
   ]
  },
  {
   "cell_type": "markdown",
   "id": "aba706c3",
   "metadata": {},
   "source": [
    "We'll also extract the state dictionary for the GPT2 model we just created ourselves:"
   ]
  },
  {
   "cell_type": "code",
   "execution_count": 26,
   "id": "8a6a600a",
   "metadata": {},
   "outputs": [],
   "source": [
    "sd=model.state_dict()"
   ]
  },
  {
   "cell_type": "code",
   "execution_count": 27,
   "id": "62249b0d",
   "metadata": {},
   "outputs": [],
   "source": [
    "transposed = ['attn.c_attn.weight', 'attn.c_proj.weight',\n",
    "              'mlp.c_fc.weight', 'mlp.c_proj.weight']\n",
    "for k in keys:\n",
    "    if any(k.endswith(w) for w in transposed):\n",
    "        # special treatment for Conv1D weights\n",
    "        with torch.no_grad():\n",
    "            sd[k].copy_(sd_hf[k].t())\n",
    "    else:\n",
    "        with torch.no_grad():\n",
    "            sd[k].copy_(sd_hf[k])"
   ]
  },
  {
   "cell_type": "markdown",
   "id": "39e27a43",
   "metadata": {},
   "source": [
    "## 3.2. \tDefine a generate() function to produce text"
   ]
  },
  {
   "cell_type": "code",
   "execution_count": null,
   "id": "e8487434",
   "metadata": {},
   "outputs": [],
   "source": [
    "model.eval()\n",
    "def sample(idx, max_new_tokens, temperature=1.0, top_k=None):\n",
    "    for _ in range(max_new_tokens):\n",
    "        # if the text is more than 1024 tokens, trim it\n",
    "        if idx.size(1) <= config.block_size:\n",
    "            idx_cond = idx  \n",
    "        else:\n",
    "            idx_cond = idx[:, -config.block_size:]\n",
    "        # predict the logits for the index in sequence\n",
    "        logits, _ = model(idx_cond)\n",
    "        # pluck the logits at the final step; apply temperature \n",
    "        logits = logits[:, -1, :] / temperature\n",
    "        # optionally crop the logits to only the top k options\n",
    "        if top_k is not None:\n",
    "            v, _ = torch.topk(logits, top_k)\n",
    "            logits[logits < v[:, [-1]]] = -float('Inf')\n",
    "        # apply softmax to get probabilities\n",
    "        probs = F.softmax(logits, dim=-1)\n",
    "        idx_next = torch.multinomial(probs, num_samples=1)\n",
    "        if idx_next.item()==tokenizer.encoder.encoder['<|endoftext|>']:\n",
    "            break\n",
    "        # append new index to sequence \n",
    "        idx = torch.cat((idx, idx_next), dim=1)\n",
    "    return idx "
   ]
  },
  {
   "cell_type": "code",
   "execution_count": 29,
   "id": "41216783",
   "metadata": {},
   "outputs": [],
   "source": [
    "def generate(prompt, max_new_tokens, temperature=1.0,\n",
    "             top_k=None):\n",
    "    if prompt == '':\n",
    "        x=torch.tensor([[tokenizer.encoder.encoder['<|endoftext|>']]],\n",
    "                         dtype=torch.long)\n",
    "    else:\n",
    "        x = tokenizer(prompt)\n",
    "    y = sample(x, max_new_tokens, temperature, top_k)\n",
    "    out = tokenizer.decode(y.squeeze())\n",
    "    print(out)"
   ]
  },
  {
   "cell_type": "code",
   "execution_count": 30,
   "id": "8f4e0d2d",
   "metadata": {},
   "outputs": [
    {
     "name": "stdout",
     "output_type": "stream",
     "text": [
      "<|endoftext|>Surely the work is done in Canada. If someone is translating Laato's In the Publishing House it's for us. I'm surprised ACM hasn't picked it up yet.\n",
      "\n",
      "\n",
      "In other news, I noticed this smattering of material after being all giddy about In the Biz.\n"
     ]
    }
   ],
   "source": [
    "prompt=\"\"\n",
    "torch.manual_seed(42)\n",
    "generate(prompt, max_new_tokens=100, temperature=1.0,\n",
    "             top_k=None)"
   ]
  },
  {
   "cell_type": "code",
   "execution_count": 31,
   "id": "8c746b60",
   "metadata": {
    "scrolled": true
   },
   "outputs": [
    {
     "name": "stdout",
     "output_type": "stream",
     "text": [
      "<|endoftext|>I've been in the hospital since my cat was discovered in a tree in downtown L.A. back in the spring. Since then, I've had a slew of procedures, multiple tests, and a full recovery. The first thing to address is the cat that was discovered in a tree, since it's become such a part of my life and the memories I share with both my wife and our son.\n",
      "\n",
      "I first met Lace when I saw her one day and was struck by how\n"
     ]
    }
   ],
   "source": [
    "# answer to exercie 11.4\n",
    "prompt=\"\"\n",
    "torch.manual_seed(42)\n",
    "generate(prompt, max_new_tokens=100, temperature=0.9,\n",
    "             top_k=40)  "
   ]
  },
  {
   "cell_type": "code",
   "execution_count": 32,
   "id": "e012656c",
   "metadata": {},
   "outputs": [
    {
     "name": "stdout",
     "output_type": "stream",
     "text": [
      "I went to the kitchen and said, you're not going to believe this.\n",
      "I went to the kitchen and noticed a female producer open a drawer in which was\n",
      "I went to the kitchen and asked who was going to be right there and A\n",
      "I went to the kitchen and took a small vial of bourbon and a little\n",
      "I went to the kitchen and found the bottle of wine, and poured it into\n"
     ]
    }
   ],
   "source": [
    "prompt=\"I went to the kitchen and\"\n",
    "for i in range(5):\n",
    "    torch.manual_seed(i)\n",
    "    generate(prompt, max_new_tokens=10, temperature=1.0,\n",
    "                 top_k=None)"
   ]
  },
  {
   "cell_type": "code",
   "execution_count": 33,
   "id": "730313c8",
   "metadata": {},
   "outputs": [
    {
     "name": "stdout",
     "output_type": "stream",
     "text": [
      "Lexington is the second largest city in the state of Kentucky. It caters to those who want to make everything in tune with being with friends and enjoying a jaunt through the down to Earth lifestyle. To do so, they are blessed with several venues large and small to fill their every need while residing micro- cozy with nature within the landmarks of the city.\n",
      "\n",
      "In a moment we look at ten up and coming suchache music acts from the Lexington area to draw upon your attention.\n",
      "\n",
      "Lyrikhop\n",
      "\n",
      "\n",
      "This Lexington-based group\n"
     ]
    }
   ],
   "source": [
    "prompt=\"Lexington is the second largest city in the state of Kentucky\"\n",
    "torch.manual_seed(42)\n",
    "generate(prompt, max_new_tokens=100, temperature=1.0,\n",
    "             top_k=None)"
   ]
  },
  {
   "cell_type": "code",
   "execution_count": 34,
   "id": "1ef09c10",
   "metadata": {},
   "outputs": [
    {
     "name": "stdout",
     "output_type": "stream",
     "text": [
      "Lexington is the second largest city in the state of Kentucky. It is also the state capital. The population of Lexington was 1,731,947 in the 2011 Census. The city is well-known for its many parks, including Arboretum, Zoo, Aquarium and the Kentucky Science Center, as well as its restaurants, such as the famous Kentucky Derby Festival.\n",
      "\n",
      "In the United States, there are at least 28 counties in this state with a population of more than 100,000, according to the 2010 census.\n",
      "\n",
      "\n"
     ]
    }
   ],
   "source": [
    "\n",
    "prompt=\"Lexington is the second largest city in the state of Kentucky\"\n",
    "torch.manual_seed(42)\n",
    "generate(prompt, max_new_tokens=100, temperature=0.9,\n",
    "             top_k=50)"
   ]
  },
  {
   "cell_type": "code",
   "execution_count": 35,
   "id": "0d429629",
   "metadata": {},
   "outputs": [
    {
     "name": "stdout",
     "output_type": "stream",
     "text": [
      "Lexington is the second largest city in the state of Kentucky but only one-third that size. Only about 50,000 people live there, less than a fifth the density spread down to the Jay River facility. Jefferson Central Bombshells Civil Arson argument lives by Henry Nash Clark Them metro-dwellers could not remove Paul Hinze from his campus residence.\n",
      "\n",
      "On Sunday morning, two local upstarts such as Mr. Palestarelli and Mr Cassadaga might just have settled the demolition nation eystem with little more than quiet negotiations\n"
     ]
    }
   ],
   "source": [
    "# answer to exercise 11.5\n",
    "torch.manual_seed(42)\n",
    "generate(prompt, max_new_tokens=100, temperature=1.2,\n",
    "             top_k=None)   "
   ]
  },
  {
   "cell_type": "code",
   "execution_count": 36,
   "id": "9d1346a5",
   "metadata": {},
   "outputs": [],
   "source": []
  }
 ],
 "metadata": {
  "kernelspec": {
   "display_name": "mac-pytorch",
   "language": "python",
   "name": "python3"
  },
  "language_info": {
   "codemirror_mode": {
    "name": "ipython",
    "version": 3
   },
   "file_extension": ".py",
   "mimetype": "text/x-python",
   "name": "python",
   "nbconvert_exporter": "python",
   "pygments_lexer": "ipython3",
   "version": "3.12.7"
  }
 },
 "nbformat": 4,
 "nbformat_minor": 5
}
