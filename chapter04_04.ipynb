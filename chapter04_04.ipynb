{
 "cells": [
  {
   "cell_type": "code",
   "execution_count": 1,
   "metadata": {},
   "outputs": [],
   "source": [
    "import numpy as np\n",
    "import pandas as pd\n",
    "import matplotlib.pyplot as plt\n",
    "%matplotlib inline"
   ]
  },
  {
   "cell_type": "code",
   "execution_count": 5,
   "metadata": {},
   "outputs": [],
   "source": [
    "import torch\n",
    "from torch import nn"
   ]
  },
  {
   "cell_type": "code",
   "execution_count": 3,
   "metadata": {},
   "outputs": [
    {
     "data": {
      "text/plain": [
       "True"
      ]
     },
     "execution_count": 3,
     "metadata": {},
     "output_type": "execute_result"
    }
   ],
   "source": [
    "torch.backends.mps.is_available()"
   ]
  },
  {
   "cell_type": "code",
   "execution_count": 4,
   "metadata": {},
   "outputs": [],
   "source": [
    "img = torch.randn(1,3, 64, 64)"
   ]
  },
  {
   "cell_type": "code",
   "execution_count": 6,
   "metadata": {},
   "outputs": [],
   "source": [
    "conv = nn.Conv2d(\n",
    "    in_channels=3,\n",
    "    out_channels=3,\n",
    "    kernel_size=3,\n",
    "    stride=1,\n",
    "    padding=1,\n",
    ")"
   ]
  },
  {
   "cell_type": "code",
   "execution_count": 7,
   "metadata": {},
   "outputs": [],
   "source": [
    "output = conv(img)"
   ]
  },
  {
   "cell_type": "code",
   "execution_count": 8,
   "metadata": {},
   "outputs": [
    {
     "data": {
      "text/plain": [
       "torch.Size([1, 3, 64, 64])"
      ]
     },
     "execution_count": 8,
     "metadata": {},
     "output_type": "execute_result"
    }
   ],
   "source": [
    "output.shape"
   ]
  },
  {
   "cell_type": "code",
   "execution_count": 16,
   "metadata": {},
   "outputs": [
    {
     "name": "stdout",
     "output_type": "stream",
     "text": [
      "mean of channel 0 is -0.025475429370999336\n",
      "std of channel 0 is 0.6039169430732727\n",
      "mean of channel 1 is -0.025475429370999336\n",
      "std of channel 1 is 0.6039169430732727\n",
      "mean of channel 2 is -0.025475429370999336\n",
      "std of channel 2 is 0.6039169430732727\n"
     ]
    }
   ],
   "source": [
    "for i in range(3):\n",
    "    print(f\"mean of channel {i} is {output[:, 0, :, :].mean().item()}\")\n",
    "    print(f\"std of channel {i} is {output[:, 0, :, :].std().item()}\")"
   ]
  },
  {
   "cell_type": "code",
   "execution_count": 18,
   "metadata": {},
   "outputs": [
    {
     "name": "stdout",
     "output_type": "stream",
     "text": [
      "mean of channel 0 is 7.916241884231567e-09\n",
      "std of channel 0 is 1.0001083612442017\n",
      "mean of channel 1 is 7.916241884231567e-09\n",
      "std of channel 1 is 1.0001083612442017\n",
      "mean of channel 2 is 7.916241884231567e-09\n",
      "std of channel 2 is 1.0001083612442017\n"
     ]
    }
   ],
   "source": [
    "norm = nn.BatchNorm2d(num_features=3)\n",
    "output = norm(output)\n",
    "for i in range(3):\n",
    "    print(f\"mean of channel {i} is {output[:, 0, :, :].mean().item()}\")\n",
    "    print(f\"std of channel {i} is {output[:, 0, :, :].std().item()}\")"
   ]
  },
  {
   "cell_type": "code",
   "execution_count": null,
   "metadata": {},
   "outputs": [],
   "source": []
  }
 ],
 "metadata": {
  "kernelspec": {
   "display_name": "mac-pytorch",
   "language": "python",
   "name": "python3"
  },
  "language_info": {
   "codemirror_mode": {
    "name": "ipython",
    "version": 3
   },
   "file_extension": ".py",
   "mimetype": "text/x-python",
   "name": "python",
   "nbconvert_exporter": "python",
   "pygments_lexer": "ipython3",
   "version": "3.12.7"
  }
 },
 "nbformat": 4,
 "nbformat_minor": 2
}
