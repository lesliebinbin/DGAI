{
 "cells": [
  {
   "cell_type": "code",
   "execution_count": null,
   "metadata": {},
   "outputs": [],
   "source": [
    "import numpy as np\n",
    "import pandas as pd\n",
    "import matplotlib.pyplot as plt\n",
    "%matplotlib inline"
   ]
  },
  {
   "cell_type": "code",
   "execution_count": null,
   "metadata": {},
   "outputs": [],
   "source": [
    "import torch\n",
    "from torch import nn"
   ]
  },
  {
   "cell_type": "code",
   "execution_count": null,
   "metadata": {},
   "outputs": [],
   "source": [
    "device = 'cuda' if torch.cuda.is_available() else 'mps' if torch.backends.mps.is_available() else 'cpu'"
   ]
  },
  {
   "cell_type": "code",
   "execution_count": null,
   "metadata": {},
   "outputs": [],
   "source": [
    "device"
   ]
  },
  {
   "cell_type": "code",
   "execution_count": null,
   "metadata": {},
   "outputs": [],
   "source": [
    "import os\n",
    "G='files/glasses/G/'\n",
    "NoG='files/glasses/NoG/'\n",
    "os.makedirs(G, exist_ok=True)\n",
    "os.makedirs(NoG, exist_ok=True)"
   ]
  },
  {
   "cell_type": "code",
   "execution_count": null,
   "metadata": {},
   "outputs": [],
   "source": []
  },
  {
   "cell_type": "code",
   "execution_count": null,
   "metadata": {},
   "outputs": [],
   "source": [
    "import random"
   ]
  },
  {
   "cell_type": "code",
   "execution_count": null,
   "metadata": {},
   "outputs": [],
   "source": [
    "from PIL import Image"
   ]
  },
  {
   "cell_type": "code",
   "execution_count": null,
   "metadata": {},
   "outputs": [],
   "source": [
    "imgs = os.listdir(G)\n",
    "imgs\n",
    "random.seed(42)\n",
    "samples = random.sample(imgs, 16)\n",
    "fig = plt.figure(dpi=200, figsize=(8, 2))\n",
    "for i in range(16):\n",
    "    ax = plt.subplot(2, 8, i+1)\n",
    "    img = Image.open(f'{G}{samples[i]}')\n",
    "    plt.imshow(img)\n",
    "    plt.xticks([])\n",
    "    plt.yticks([])\n",
    "plt.subplots_adjust(wspace=0.1, hspace=0.1)\n",
    "plt.show()"
   ]
  },
  {
   "cell_type": "code",
   "execution_count": null,
   "metadata": {},
   "outputs": [],
   "source": [
    "imgs = os.listdir(NoG)\n",
    "imgs\n",
    "random.seed(42)\n",
    "samples = random.sample(imgs, 16)\n",
    "fig = plt.figure(dpi=200, figsize=(8, 2))\n",
    "for i in range(16):\n",
    "    ax = plt.subplot(2, 8, i+1)\n",
    "    img = Image.open(f'{NoG}{samples[i]}')\n",
    "    plt.imshow(img)\n",
    "    plt.xticks([])\n",
    "    plt.yticks([])\n",
    "plt.subplots_adjust(wspace=0.1, hspace=0.1)\n",
    "plt.show()"
   ]
  },
  {
   "cell_type": "code",
   "execution_count": null,
   "metadata": {},
   "outputs": [],
   "source": [
    "class Critic(nn.Module):\n",
    "    def __init__(self, img_channels, features):\n",
    "        super().__init__()\n",
    "        self.net = nn.Sequential(\n",
    "            nn.Conv2d(in_channels=img_channels, out_channels=features, kernel_size=4, stride=2, padding=1),\n",
    "            nn.LeakyReLU(.2),\n",
    "            self.block(features, features*2, 4, 2, 1),\n",
    "            self.block(features*2, features*4, 4, 2, 1),\n",
    "            self.block(features*4, features*8, 4, 2, 1),\n",
    "            self.block(features*8, features*16, 4, 2, 1),\n",
    "            self.block(features*16, features*32, 4, 2, 1),\n",
    "            nn.Conv2d(features*32, 1, kernel_size=4, stride=2, padding=0)\n",
    "        )\n",
    "    def block(self, in_channels, out_channels, kernel_size, stride, padding):\n",
    "        return nn.Sequential(\n",
    "            nn.Conv2d(\n",
    "                in_channels=in_channels,\n",
    "                out_channels=out_channels, \n",
    "                kernel_size=kernel_size, \n",
    "                stride=stride, \n",
    "                padding=padding,\n",
    "                bias=False\n",
    "            ),\n",
    "            nn.InstanceNorm2d(out_channels, affine=True),\n",
    "            nn.LeakyReLU(.2)\n",
    "        )\n",
    "    def forward(self, x):\n",
    "        return self.net(x)\n"
   ]
  },
  {
   "cell_type": "code",
   "execution_count": null,
   "metadata": {},
   "outputs": [],
   "source": [
    "class Generator(nn.Module):\n",
    "    def __init__(self, noise_channels, img_channels, features):\n",
    "        super(Generator, self).__init__()\n",
    "        self.net = nn.Sequential(\n",
    "            self.block(noise_channels, features * 64, 4, 1, 0),\n",
    "            self.block(features * 64, features * 32, 4, 2, 1),\n",
    "            self.block(features * 32, features * 16, 4, 2, 1),\n",
    "            self.block(features * 16, features * 8, 4, 2, 1),\n",
    "            self.block(features * 8, features * 4, 4, 2, 1),\n",
    "            self.block(features * 4, features * 2, 4, 2, 1),\n",
    "            nn.ConvTranspose2d(\n",
    "                features * 2, img_channels, kernel_size=4, stride=2, padding=1\n",
    "            ),\n",
    "            nn.Tanh(),\n",
    "        )\n",
    "\n",
    "    def block(self, in_channels, out_channels, kernel_size, stride, padding):\n",
    "        return nn.Sequential(\n",
    "            nn.ConvTranspose2d(\n",
    "                in_channels=in_channels,\n",
    "                out_channels=out_channels,\n",
    "                kernel_size=kernel_size,\n",
    "                stride=stride,\n",
    "                padding=padding,\n",
    "                bias=False,\n",
    "            ),\n",
    "            nn.BatchNorm2d(out_channels),\n",
    "            nn.ReLU(),\n",
    "        )\n",
    "\n",
    "    def forward(self, x):\n",
    "        return self.net(x)\n"
   ]
  },
  {
   "cell_type": "code",
   "execution_count": null,
   "metadata": {},
   "outputs": [],
   "source": [
    "def weight_init(net):\n",
    "    for m in net.modules():\n",
    "        if isinstance(m, (nn.Conv2d, nn.ConvTranspose2d)):\n",
    "            print('Conv init...')\n",
    "            nn.init.xavier_normal_(m.weight.data)"
   ]
  },
  {
   "cell_type": "code",
   "execution_count": null,
   "metadata": {},
   "outputs": [],
   "source": [
    "z_dim = 100\n",
    "img_channels = 3\n",
    "features = 16\n",
    "gen = Generator(z_dim + 2, img_channels, features)\n",
    "critic = Critic(img_channels + 2, features)\n",
    "\n",
    "from pathlib import Path\n",
    "if Path('files/models/glasses_checkpoint.pth').is_file():\n",
    "  loaded_data = torch.load('files/models/glasses_checkpoint.pth', map_location=device)\n",
    "  previous_epoch = loaded_data['epoch']\n",
    "  gen_state_dict = loaded_data['gen_state_dict']\n",
    "  critic_state_dict = loaded_data['critic_state_dict']\n",
    "  gen.load_state_dict(gen_state_dict)\n",
    "  critic.load_state_dict(critic_state_dict)\n",
    "else:\n",
    "  weight_init(gen)\n",
    "  weight_init(critic)\n",
    "  previous_epoch = -1\n",
    "gen.to(device)\n",
    "critic.to(device)\n",
    "lr = .0001\n",
    "opt_gen = torch.optim.Adam(gen.parameters(), lr=lr, betas=(0, .9))\n",
    "opt_critic = torch.optim.Adam(critic.parameters(), lr=lr, betas=(0, .9))\n"
   ]
  },
  {
   "cell_type": "code",
   "execution_count": null,
   "metadata": {},
   "outputs": [],
   "source": [
    "\n",
    "def GP(critic, real, fake):\n",
    "    B, C, H, W = real.shape\n",
    "    alpha=torch.rand((B,1,1,1)).repeat(1,C,H,W).to(device)\n",
    "    interpolated_images = real * alpha + (1 - alpha) * fake\n",
    "    critic_scores = critic(interpolated_images)\n",
    "    gradient  = torch.autograd.grad(\n",
    "        inputs = interpolated_images,\n",
    "        outputs = critic_scores,\n",
    "        grad_outputs=torch.ones_like(critic_scores),\n",
    "        create_graph=True,\n",
    "        retain_graph=True,\n",
    "    )[0]\n",
    "    gradient = gradient.view(gradient.shape[0], -1)\n",
    "    gradient_norm = gradient.norm(2, dim=1)\n",
    "    gp = torch.mean((gradient_norm - 1)**2)\n",
    "    return gp\n"
   ]
  },
  {
   "cell_type": "code",
   "execution_count": null,
   "metadata": {},
   "outputs": [],
   "source": [
    "import torchvision.transforms as T\n",
    "import torchvision\n",
    "batch_size = 32\n",
    "imgsz = 256\n",
    "transform = T.Compose([\n",
    "    T.Resize((imgsz, imgsz)),\n",
    "    T.ToTensor(),\n",
    "    T.Normalize((.5, .5, .5), (.5, .5, .5))\n",
    "])"
   ]
  },
  {
   "cell_type": "code",
   "execution_count": null,
   "metadata": {},
   "outputs": [],
   "source": [
    "data_set = torchvision.datasets.ImageFolder(root=\"files/glasses\", transform=transform)"
   ]
  },
  {
   "cell_type": "code",
   "execution_count": null,
   "metadata": {},
   "outputs": [],
   "source": [
    "from tqdm import tqdm\n",
    "new_data = []\n",
    "for (img, label) in tqdm(data_set):\n",
    "    channels = torch.zeros(2, imgsz, imgsz)\n",
    "    if label == 0:\n",
    "        channels[0, :, :] = 1\n",
    "    else:\n",
    "        channels[1, :, :] = 1\n",
    "    img_and_label = torch.cat((img, channels), dim=0)\n",
    "    new_data.append(img_and_label)\n"
   ]
  },
  {
   "cell_type": "code",
   "execution_count": null,
   "metadata": {},
   "outputs": [],
   "source": [
    "data_loader = torch.utils.data.DataLoader(new_data, batch_size=batch_size, shuffle=True, num_workers=4)"
   ]
  },
  {
   "cell_type": "code",
   "execution_count": null,
   "metadata": {},
   "outputs": [],
   "source": [
    "import os\n",
    "os.makedirs('files/generated_glasses', exist_ok=True)\n",
    "def plot_epoch(epoch):\n",
    "    # test images with glasses\n",
    "    noise = torch.randn(32, z_dim, 1, 1)\n",
    "    labels = torch.zeros(32, 2, 1, 1)\n",
    "    # use label [1,0] so G knows what to generate\n",
    "    labels[:,0,:,:]=1\n",
    "    noise_and_labels=torch.cat([noise,labels],dim=1).to(device)\n",
    "    fake=gen(noise_and_labels).cpu().detach()\n",
    "    fig=plt.figure(figsize=(20,10),dpi=200)\n",
    "    for i in range(32):\n",
    "        ax = plt.subplot(4, 8, i + 1)\n",
    "        img=(fake.cpu().detach()[i]/2+0.5).permute(1,2,0)\n",
    "        plt.imshow(img)\n",
    "        plt.xticks([])\n",
    "        plt.yticks([])\n",
    "    plt.subplots_adjust(hspace=-0.6)\n",
    "    plt.savefig(f\"files/generated_glasses/G{epoch}.png\")\n",
    "    plt.show() \n",
    "    # test images without glasses\n",
    "    noise = torch.randn(32, z_dim, 1, 1)\n",
    "    labels = torch.zeros(32, 2, 1, 1)\n",
    "    # use label [0,1] so G knows what to generate\n",
    "    labels[:,1,:,:]=1\n",
    "    noise_and_labels=torch.cat([noise,labels],dim=1).to(device)\n",
    "    fake=gen(noise_and_labels).cpu().detach()\n",
    "    fig=plt.figure(figsize=(20,10),dpi=200)\n",
    "    for i in range(32):\n",
    "        ax = plt.subplot(4, 8, i + 1)\n",
    "        img=(fake.cpu().detach()[i]/2+0.5).permute(1,2,0)\n",
    "        plt.imshow(img)\n",
    "        plt.xticks([])\n",
    "        plt.yticks([])\n",
    "    plt.subplots_adjust(hspace=-0.6)\n",
    "    plt.savefig(f\"files/generated_glasses/NoG{epoch}.png\")\n",
    "    plt.show()     "
   ]
  },
  {
   "cell_type": "code",
   "execution_count": null,
   "metadata": {},
   "outputs": [],
   "source": [
    "def train_epoch(img_and_labels):\n",
    "    onehots = img_and_labels[:, 3:, :1, :1]\n",
    "    real = img_and_labels.to(device)\n",
    "    B = real.shape[0]\n",
    "    for _ in range(5):\n",
    "        noise = torch.randn(B, z_dim, 1, 1)\n",
    "        noise_and_labels=torch.cat([noise,onehots],dim=1).to(device)\n",
    "        fake_imgs = gen(noise_and_labels).to(device)\n",
    "        fakelabels = img_and_labels[:, 3:, :, :].to(device)\n",
    "        fake=torch.cat([fake_imgs,fakelabels],dim=1).to(device)\n",
    "        critic_real = critic(real).reshape(-1)\n",
    "        critic_fake = critic(fake).reshape(-1)\n",
    "        gp = GP(critic, real, fake)\n",
    "        loss_critic = torch.mean(critic_fake) - torch.mean(critic_real) + 10 * gp\n",
    "        opt_critic.zero_grad()\n",
    "        loss_critic.backward(retain_graph=True)\n",
    "        opt_critic.step()\n",
    "    gen_fake = critic(fake)\n",
    "    loss_gen = -torch.mean(gen_fake)\n",
    "    opt_gen.zero_grad()\n",
    "    loss_gen.backward()\n",
    "    opt_gen.step()\n",
    "    return loss_critic, loss_gen\n",
    "\n",
    "\n",
    "def save_checkpoint(epoch, gloss, closs):\n",
    "    torch.save({\n",
    "        'epoch': epoch,\n",
    "        'gen_state_dict': gen.state_dict(),\n",
    "        'critic_state_dict': critic.state_dict(),\n",
    "    }, f'files/models/glasses_checkpoint.pth')\n"
   ]
  },
  {
   "cell_type": "code",
   "execution_count": null,
   "metadata": {},
   "outputs": [],
   "source": [
    "if previous_epoch > 0:\n",
    "    plot_epoch(previous_epoch)\n",
    "for epoch in range(previous_epoch + 1, 100):\n",
    "    closs, gloss = 0, 0\n",
    "    for img_and_labels in tqdm(data_loader):\n",
    "        loss_critic, loss_gen = train_epoch(img_and_labels)\n",
    "        closs += loss_critic.item() / len(data_loader)\n",
    "        gloss += loss_gen.item() / len(data_loader)\n",
    "    print(f\"at epoch {epoch}, critic loss: {closs}, generator loss {gloss}\") \n",
    "    plot_epoch(epoch)\n",
    "    save_checkpoint(epoch, gloss, closs)"
   ]
  },
  {
   "cell_type": "code",
   "execution_count": 22,
   "metadata": {},
   "outputs": [],
   "source": [
    "torch.jit.save(torch.jit.script(gen), 'files/models/glasses_gen.pt')"
   ]
  },
  {
   "cell_type": "code",
   "execution_count": null,
   "metadata": {},
   "outputs": [],
   "source": []
  }
 ],
 "metadata": {
  "kernelspec": {
   "display_name": "mac-pytorch",
   "language": "python",
   "name": "python3"
  },
  "language_info": {
   "codemirror_mode": {
    "name": "ipython",
    "version": 3
   },
   "file_extension": ".py",
   "mimetype": "text/x-python",
   "name": "python",
   "nbconvert_exporter": "python",
   "pygments_lexer": "ipython3",
   "version": "3.12.7"
  }
 },
 "nbformat": 4,
 "nbformat_minor": 2
}
