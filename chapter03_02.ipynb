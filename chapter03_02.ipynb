{
 "cells": [
  {
   "cell_type": "code",
   "execution_count": null,
   "metadata": {},
   "outputs": [],
   "source": [
    "import numpy as np\n",
    "import pandas as pd\n",
    "import matplotlib.pyplot as plt\n",
    "%matplotlib inline"
   ]
  },
  {
   "cell_type": "code",
   "execution_count": null,
   "metadata": {},
   "outputs": [],
   "source": [
    "import torch\n",
    "batch_size = 10"
   ]
  },
  {
   "cell_type": "code",
   "execution_count": null,
   "metadata": {},
   "outputs": [],
   "source": [
    "device = 'cuda' if torch.cuda.is_available() else 'mps' if torch.backends.mps.is_available() else 'cpu'"
   ]
  },
  {
   "cell_type": "code",
   "execution_count": null,
   "metadata": {},
   "outputs": [],
   "source": [
    "def onehost_encoder(position, depth):\n",
    "    onehot = torch.zeros(depth)\n",
    "    onehot[position] = 1\n",
    "    return onehot"
   ]
  },
  {
   "cell_type": "code",
   "execution_count": null,
   "metadata": {},
   "outputs": [],
   "source": [
    "def int_to_onehot(number):\n",
    "    return onehost_encoder(number, 100)"
   ]
  },
  {
   "cell_type": "code",
   "execution_count": null,
   "metadata": {},
   "outputs": [],
   "source": [
    "sample = int_to_onehot(75)"
   ]
  },
  {
   "cell_type": "code",
   "execution_count": null,
   "metadata": {},
   "outputs": [],
   "source": [
    "def onehot_to_int(onehot):\n",
    "    return torch.argmax(onehot).item()"
   ]
  },
  {
   "cell_type": "code",
   "execution_count": null,
   "metadata": {},
   "outputs": [],
   "source": [
    "onehot_to_int(sample)"
   ]
  },
  {
   "cell_type": "code",
   "execution_count": null,
   "metadata": {},
   "outputs": [],
   "source": [
    "def gen_squence():\n",
    "    indices = torch.randint(0, 20, (batch_size,))\n",
    "    return indices * 5"
   ]
  },
  {
   "cell_type": "code",
   "execution_count": null,
   "metadata": {},
   "outputs": [],
   "source": [
    "gen_squence()"
   ]
  },
  {
   "cell_type": "code",
   "execution_count": null,
   "metadata": {},
   "outputs": [],
   "source": [
    "def gen_batch():\n",
    "    sequence = gen_squence()\n",
    "    batch = [int_to_onehot(i).numpy() for i in sequence]\n",
    "    batch = np.array(batch)\n",
    "    return torch.tensor(batch)"
   ]
  },
  {
   "cell_type": "code",
   "execution_count": null,
   "metadata": {},
   "outputs": [],
   "source": [
    "batch = gen_batch()"
   ]
  },
  {
   "cell_type": "code",
   "execution_count": null,
   "metadata": {},
   "outputs": [],
   "source": [
    "batch"
   ]
  },
  {
   "cell_type": "code",
   "execution_count": null,
   "metadata": {},
   "outputs": [],
   "source": [
    "def data_to_num(data):\n",
    "    return torch.argmax(data, dim=-1)"
   ]
  },
  {
   "cell_type": "code",
   "execution_count": null,
   "metadata": {},
   "outputs": [],
   "source": [
    "numbers = data_to_num(batch)"
   ]
  },
  {
   "cell_type": "code",
   "execution_count": null,
   "metadata": {},
   "outputs": [],
   "source": [
    "numbers"
   ]
  },
  {
   "cell_type": "code",
   "execution_count": null,
   "metadata": {},
   "outputs": [],
   "source": [
    "from torch import nn"
   ]
  },
  {
   "cell_type": "code",
   "execution_count": null,
   "metadata": {},
   "outputs": [],
   "source": [
    "D = nn.Sequential(\n",
    "    nn.Linear(100, 1),\n",
    "    nn.Sigmoid()\n",
    ").to(device)"
   ]
  },
  {
   "cell_type": "code",
   "execution_count": null,
   "metadata": {},
   "outputs": [],
   "source": [
    "G = nn.Sequential(\n",
    "    nn.Linear(100, 100),\n",
    "    nn.ReLU()\n",
    ").to(device)"
   ]
  },
  {
   "cell_type": "code",
   "execution_count": null,
   "metadata": {},
   "outputs": [],
   "source": [
    "loss_fn = nn.BCELoss()\n",
    "lr = .0005\n",
    "optimD = torch.optim.Adam(D.parameters(), lr=lr)\n",
    "optimG = torch.optim.Adam(G.parameters(), lr=lr)\n",
    "fake_labels = torch.ones(batch_size, 1).to(device)\n",
    "real_labels = torch.zeros(batch_size, 1).to(device)"
   ]
  },
  {
   "cell_type": "code",
   "execution_count": null,
   "metadata": {},
   "outputs": [],
   "source": [
    "def train_D_on_real(dis_model, dis_optim, loss_fn):\n",
    "    real_data = gen_batch().to(device)\n",
    "    optimD.zero_grad()\n",
    "    pred = dis_model(real_data)\n",
    "    loss = loss_fn(pred, real_labels)\n",
    "    loss.backward()\n",
    "    dis_optim.step()\n",
    "    return loss.item()\n",
    "\n",
    "def train_D_on_fake(dis_model, dis_optim, loss_fn, fake_samples):\n",
    "    dis_optim.zero_grad()\n",
    "    pred = dis_model(fake_samples)\n",
    "    loss = loss_fn(pred, fake_labels)\n",
    "    loss.backward()\n",
    "    dis_optim.step()\n",
    "    return loss.item()\n",
    "\n",
    "def train_G(g_model, d_model, g_optim, loss_fn):\n",
    "    g_optim.zero_grad()\n",
    "    noise = torch.randn(batch_size, 100).to(device)\n",
    "    generated_data = g_model(noise)\n",
    "    output = d_model(generated_data)\n",
    "    loss = loss_fn(output, real_labels)\n",
    "    loss.backward()\n",
    "    g_optim.step()\n",
    "    return generated_data\n"
   ]
  },
  {
   "cell_type": "code",
   "execution_count": null,
   "metadata": {},
   "outputs": [],
   "source": [
    "class EarlyStop:\n",
    "    def __init__(self, patience=1000):\n",
    "        self.patience = patience\n",
    "        self.steps = 0\n",
    "        self.min_gdif = float('inf')\n",
    "    def stop(self, gdif):\n",
    "        if gdif < self.min_gdif:\n",
    "            self.min_gdif = gdif\n",
    "            self.steps = 0\n",
    "        elif gdif >= self.min_gdif:\n",
    "            self.steps += 1\n",
    "        if self.steps >= self.patience:\n",
    "            return True\n",
    "        else:\n",
    "            return False\n",
    "stopper=EarlyStop(800)"
   ]
  },
  {
   "cell_type": "code",
   "execution_count": null,
   "metadata": {},
   "outputs": [],
   "source": [
    "mse = nn.MSELoss()"
   ]
  },
  {
   "cell_type": "code",
   "execution_count": null,
   "metadata": {},
   "outputs": [],
   "source": [
    "def distance(generated_data):\n",
    "    nums = data_to_num(generated_data)\n",
    "    remainders = nums % 5\n",
    "    ten_zeros = torch.zeros_like(remainders, dtype=torch.float32).to(device)\n",
    "    mseloss = mse(remainders, ten_zeros)\n",
    "    return mseloss"
   ]
  },
  {
   "cell_type": "code",
   "execution_count": null,
   "metadata": {},
   "outputs": [],
   "source": [
    "def train_D_G(d_model, g_model, loss_fn, optim_d, optim_g):\n",
    "    train_D_on_real(d_model, optim_d, loss_fn)\n",
    "    fake_samples = g_model(torch.randn(batch_size, 100).to(device))\n",
    "    train_D_on_fake(d_model, optim_d, loss_fn, fake_samples)\n",
    "    return train_G(g_model, d_model, optim_g, loss_fn)\n",
    "\n"
   ]
  },
  {
   "cell_type": "code",
   "execution_count": null,
   "metadata": {},
   "outputs": [],
   "source": [
    "for epoch in range(10000):\n",
    "    generated_data = train_D_G(D, G, loss_fn, optimD, optimG)\n",
    "    dis = distance(generated_data)\n",
    "    if stopper.stop(dis):\n",
    "        break\n",
    "    if epoch % 50 == 0:\n",
    "        print(data_to_num(generated_data))    #D"
   ]
  },
  {
   "cell_type": "code",
   "execution_count": null,
   "metadata": {},
   "outputs": [],
   "source": [
    "torch.jit.save(torch.jit.script(G), 'files/nums_gen.pt')"
   ]
  },
  {
   "cell_type": "code",
   "execution_count": null,
   "metadata": {},
   "outputs": [],
   "source": []
  }
 ],
 "metadata": {
  "kernelspec": {
   "display_name": "nvidia-pytorch",
   "language": "python",
   "name": "python3"
  },
  "language_info": {
   "codemirror_mode": {
    "name": "ipython",
    "version": 3
   },
   "file_extension": ".py",
   "mimetype": "text/x-python",
   "name": "python",
   "nbconvert_exporter": "python",
   "pygments_lexer": "ipython3",
   "version": "3.11.2"
  }
 },
 "nbformat": 4,
 "nbformat_minor": 2
}
